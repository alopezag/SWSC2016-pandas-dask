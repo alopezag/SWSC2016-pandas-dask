{
 "cells": [
  {
   "cell_type": "markdown",
   "metadata": {
    "collapsed": true
   },
   "source": [
    "<img src=\"img/embarrassing.gif\" width=40% align=\"right\">\n",
    "\n",
    "Understanding Dask\n",
    "===========\n",
    "\n",
    "*Dask is a way to represent computations as dictionaries, and then analyze and execute them.*\n",
    "\n",
    "Dask supports parallel computing.  Internally it executes graphs of tasks with data dependencies.  In this section we talk about what these graphs look like and how to construct them.  We finish with exercises manually building graphs that use basic Pandas functionality.  This is straightforward but somewhat tedious.  We'll automate it in future sections.\n",
    "\n",
    "You can safely skip this section if you don't care about how dask works internally.\n",
    "\n",
    "**Related Documentation**\n",
    "\n",
    "*  [Dask graph specification](http://dask.pydata.org/en/latest/spec.html)\n",
    "*  [Discussion on custom graphs](http://dask.pydata.org/en/latest/custom-graphs.html)"
   ]
  },
  {
   "cell_type": "markdown",
   "metadata": {},
   "source": [
    "## Dask task graphs"
   ]
  },
  {
   "cell_type": "markdown",
   "metadata": {},
   "source": [
    "### Normal Programming\n",
    "\n",
    "Normally we write functions and then use those function in linear code.  The Python interpreter executes this code from the top down."
   ]
  },
  {
   "cell_type": "markdown",
   "metadata": {},
   "source": [
    "### Make functions"
   ]
  },
  {
   "cell_type": "code",
   "execution_count": 1,
   "metadata": {
    "collapsed": false
   },
   "outputs": [],
   "source": [
    "def inc(x):\n",
    "    return x + 1\n",
    "\n",
    "def add(x, y):\n",
    "    return x + y"
   ]
  },
  {
   "cell_type": "markdown",
   "metadata": {},
   "source": [
    "### Call functions in code"
   ]
  },
  {
   "cell_type": "code",
   "execution_count": 2,
   "metadata": {
    "collapsed": false
   },
   "outputs": [
    {
     "data": {
      "text/plain": [
       "13"
      ]
     },
     "execution_count": 2,
     "metadata": {},
     "output_type": "execute_result"
    }
   ],
   "source": [
    "a = 1\n",
    "b = inc(a)\n",
    "\n",
    "x = 10\n",
    "y = inc(x)\n",
    "\n",
    "z = add(b, y)\n",
    "z"
   ]
  },
  {
   "cell_type": "markdown",
   "metadata": {},
   "source": [
    "Even though some of this work could have happened in parallel, Python went ahead and executed one line after the other sequentially.\n",
    "\n",
    "If we want to execute code in parallel then we need to stop Python from taking control."
   ]
  },
  {
   "cell_type": "markdown",
   "metadata": {},
   "source": [
    "### Computation as a data structure\n",
    "\n",
    "Instead of writing normal code we store the stages of the computation above as a Python dictionary where each function call becomes a Python tuple.\n",
    "\n",
    "This is going to look a little strange but we'll have the entire computation stored in a Python data structure that we can manipulate with *other* Python code."
   ]
  },
  {
   "cell_type": "code",
   "execution_count": 3,
   "metadata": {
    "collapsed": true
   },
   "outputs": [],
   "source": [
    "dsk = {'a': 1, \n",
    "       'b': (inc, 'a'),\n",
    "       \n",
    "       'x': 10,\n",
    "       'y': (inc, 'x'),\n",
    "       \n",
    "       'z': (add, 'b', 'y')}"
   ]
  },
  {
   "cell_type": "code",
   "execution_count": 4,
   "metadata": {
    "collapsed": false
   },
   "outputs": [
    {
     "data": {
      "text/plain": [
       "dict"
      ]
     },
     "execution_count": 4,
     "metadata": {},
     "output_type": "execute_result"
    }
   ],
   "source": [
    "type(dsk)"
   ]
  },
  {
   "cell_type": "markdown",
   "metadata": {},
   "source": [
    "We call a dictionary that looks like this a *dask graph*.  A dask graph is just a dictionary."
   ]
  },
  {
   "cell_type": "markdown",
   "metadata": {},
   "source": [
    "### Related Approaches to Delayed Evaluation\n",
    "\n",
    "Representing Python functions as tuples containing function names and arguments may seem strange, but in reality you are already familiar with the style.\n"
   ]
  },
  {
   "cell_type": "code",
   "execution_count": 5,
   "metadata": {
    "collapsed": true
   },
   "outputs": [],
   "source": [
    "# Sometimes we defer compuations with a lambda\n",
    "\n",
    "x = 15\n",
    "y = 30\n",
    "z = lambda: x + y\n",
    "\n",
    "# z delays the execution of x + y until we call z()\n",
    "# This is very similar to (add, 'x', 'y')\n",
    "\n",
    "# Sometimes we defer computations with strings\n",
    "\n",
    "z = \"x + y\"\n",
    "eval(z)\n",
    "\n",
    "# The variable 'z' stores a string that is a valid Python statement\n",
    "# We call eval to fully evaluate `z' and obtain the answer.\n",
    "\n",
    "# Sometimes we use functools.partial\n",
    "import functools\n",
    "z = functools.partial(add, x, y)\n",
    "\n",
    "# Dask delays evaluation with tuples\n",
    "z = (add, x, y)"
   ]
  },
  {
   "cell_type": "markdown",
   "metadata": {},
   "source": [
    "### Dask graph definition\n",
    "\n",
    "To be fully explicit, here is the definition of a dask graph taken from the [dask documentation](http://dask.pydata.org/en/latest/spec.html)\n",
    "\n",
    "A **dask graph** is a dictionary mapping data-keys to values or tasks.\n",
    "\n",
    "```python\n",
    "{'x': 1,\n",
    " 'y': 2,\n",
    " 'z': (add, 'x', 'y'),\n",
    " 'w': (sum, ['x', 'y', 'z'])}\n",
    "```\n",
    "\n",
    "A **key** can be any hashable value that is not a task.\n",
    "\n",
    "```python\n",
    "'x'\n",
    "('x', 2, 3)\n",
    "```\n",
    "\n",
    "A **task** is a tuple with a callable first element. Tasks represent atomic units of work meant to be run by a single worker.\n",
    "\n",
    "```python\n",
    "(add, 'x', 'y')\n",
    "```\n",
    "\n",
    "We represent a task as a `tuple` such that the *first element is a callable function* (like `add`), and the succeeding elements are *arguments* for that function.\n",
    "\n",
    "An **argument** to a task may be one of the following:\n",
    "\n",
    "1. Any key present in the dask like `'x'`\n",
    "2. Any other value like `1`, to be interpreted literally\n",
    "3. Other tasks like `(inc, 'x')`\n",
    "4. List of arguments, like `[1, 'x', (inc, 'x')]`\n",
    "\n",
    "So all of the following are valid tasks\n",
    "\n",
    "```python\n",
    "(add, 1, 2)\n",
    "(add, 'x', 2)\n",
    "(add, (inc, 'x'), 2)\n",
    "(sum, [1, 2])\n",
    "(sum, ['x', (inc, 'x')])\n",
    "(np.dot, np.array([...]), np.array([...]))\n",
    "```"
   ]
  },
  {
   "cell_type": "markdown",
   "metadata": {},
   "source": [
    "### Execute dask graphs\n",
    "\n",
    "The dask library contains functions to execute these dictionaries in parallel with multiple threads or multiple processes."
   ]
  },
  {
   "cell_type": "code",
   "execution_count": 6,
   "metadata": {
    "collapsed": false
   },
   "outputs": [
    {
     "data": {
      "text/plain": [
       "13"
      ]
     },
     "execution_count": 6,
     "metadata": {},
     "output_type": "execute_result"
    }
   ],
   "source": [
    "from dask.threaded import get\n",
    "get(dsk, 'z')  # Execute in multiple threads"
   ]
  },
  {
   "cell_type": "code",
   "execution_count": 7,
   "metadata": {
    "collapsed": false
   },
   "outputs": [
    {
     "data": {
      "text/plain": [
       "13"
      ]
     },
     "execution_count": 7,
     "metadata": {},
     "output_type": "execute_result"
    }
   ],
   "source": [
    "from dask.multiprocessing import get\n",
    "get(dsk, 'z')  # Execute in multiple processes"
   ]
  },
  {
   "cell_type": "code",
   "execution_count": 8,
   "metadata": {
    "collapsed": false
   },
   "outputs": [
    {
     "data": {
      "text/plain": [
       "{'a': 1,\n",
       " 'b': (<function __main__.inc>, 'a'),\n",
       " 'x': 10,\n",
       " 'y': (<function __main__.inc>, 'x'),\n",
       " 'z': (<function __main__.add>, 'b', 'y')}"
      ]
     },
     "execution_count": 8,
     "metadata": {},
     "output_type": "execute_result"
    }
   ],
   "source": [
    "dsk"
   ]
  },
  {
   "cell_type": "markdown",
   "metadata": {},
   "source": [
    "So as long as you're willing to write code in this funny way with dictionaries, dask will run your separate functions in parallel."
   ]
  },
  {
   "cell_type": "markdown",
   "metadata": {},
   "source": [
    "### Analyze and Visualize Graphs\n",
    "\n",
    "Because our computation is just a dictionary we can write arbitrary functions to do a variety of useful analyses on these dictionaries.  A simple yet common operation is just to visualize the computation as a visual graph. "
   ]
  },
  {
   "cell_type": "code",
   "execution_count": 10,
   "metadata": {
    "collapsed": false
   },
   "outputs": [
    {
     "data": {
      "image/svg+xml": [
       "<svg height=\"356pt\" viewBox=\"0.00 0.00 134.00 355.63\" width=\"134pt\" xmlns=\"http://www.w3.org/2000/svg\" xmlns:xlink=\"http://www.w3.org/1999/xlink\">\n",
       "<g class=\"graph\" id=\"graph0\" transform=\"scale(1 1) rotate(0) translate(4 351.631)\">\n",
       "<title>%3</title>\n",
       "<polygon fill=\"white\" points=\"-4,4 -4,-351.631 130,-351.631 130,4 -4,4\" stroke=\"none\"/>\n",
       "<!-- 5500202440314211056 -->\n",
       "<g class=\"node\" id=\"node1\"><title>5500202440314211056</title>\n",
       "<polygon fill=\"none\" points=\"54,-36 0,-36 0,-0 54,-0 54,-36\" stroke=\"black\"/>\n",
       "<text font-family=\"Times,serif\" font-size=\"14.00\" text-anchor=\"middle\" x=\"27\" y=\"-13.8\">x</text>\n",
       "</g>\n",
       "<!-- &#45;3251819173171721967 -->\n",
       "<g class=\"node\" id=\"node6\"><title>-3251819173171721967</title>\n",
       "<ellipse cx=\"27\" cy=\"-94.8354\" fill=\"none\" rx=\"22.6719\" ry=\"22.6719\" stroke=\"black\"/>\n",
       "<text font-family=\"Times,serif\" font-size=\"14.00\" text-anchor=\"middle\" x=\"27\" y=\"-90.6354\">inc</text>\n",
       "</g>\n",
       "<!-- 5500202440314211056&#45;&gt;&#45;3251819173171721967 -->\n",
       "<g class=\"edge\" id=\"edge4\"><title>5500202440314211056-&gt;-3251819173171721967</title>\n",
       "<path d=\"M27,-36.3568C27,-43.8469 27,-52.8595 27,-61.5032\" fill=\"none\" stroke=\"black\"/>\n",
       "<polygon fill=\"black\" points=\"23.5001,-61.7365 27,-71.7366 30.5001,-61.7366 23.5001,-61.7365\" stroke=\"black\"/>\n",
       "</g>\n",
       "<!-- &#45;7894562127176404487 -->\n",
       "<g class=\"node\" id=\"node2\"><title>-7894562127176404487</title>\n",
       "<polygon fill=\"none\" points=\"126,-189.671 72,-189.671 72,-153.671 126,-153.671 126,-189.671\" stroke=\"black\"/>\n",
       "<text font-family=\"Times,serif\" font-size=\"14.00\" text-anchor=\"middle\" x=\"99\" y=\"-167.471\">b</text>\n",
       "</g>\n",
       "<!-- 6164642048807067533 -->\n",
       "<g class=\"node\" id=\"node8\"><title>6164642048807067533</title>\n",
       "<ellipse cx=\"63\" cy=\"-250.651\" fill=\"none\" rx=\"24.9604\" ry=\"24.9604\" stroke=\"black\"/>\n",
       "<text font-family=\"Times,serif\" font-size=\"14.00\" text-anchor=\"middle\" x=\"63\" y=\"-246.451\">add</text>\n",
       "</g>\n",
       "<!-- &#45;7894562127176404487&#45;&gt;6164642048807067533 -->\n",
       "<g class=\"edge\" id=\"edge6\"><title>-7894562127176404487-&gt;6164642048807067533</title>\n",
       "<path d=\"M91.0104,-189.755C87.0546,-198.214 82.1529,-208.695 77.5613,-218.514\" fill=\"none\" stroke=\"black\"/>\n",
       "<polygon fill=\"black\" points=\"74.3609,-217.095 73.2951,-227.637 80.7018,-220.061 74.3609,-217.095\" stroke=\"black\"/>\n",
       "</g>\n",
       "<!-- &#45;2762866560837168142 -->\n",
       "<g class=\"node\" id=\"node3\"><title>-2762866560837168142</title>\n",
       "<ellipse cx=\"99\" cy=\"-94.8354\" fill=\"none\" rx=\"22.6719\" ry=\"22.6719\" stroke=\"black\"/>\n",
       "<text font-family=\"Times,serif\" font-size=\"14.00\" text-anchor=\"middle\" x=\"99\" y=\"-90.6354\">inc</text>\n",
       "</g>\n",
       "<!-- &#45;2762866560837168142&#45;&gt;&#45;7894562127176404487 -->\n",
       "<g class=\"edge\" id=\"edge1\"><title>-2762866560837168142-&gt;-7894562127176404487</title>\n",
       "<path d=\"M99,-117.884C99,-125.887 99,-135.025 99,-143.424\" fill=\"none\" stroke=\"black\"/>\n",
       "<polygon fill=\"black\" points=\"95.5001,-143.525 99,-153.525 102.5,-143.525 95.5001,-143.525\" stroke=\"black\"/>\n",
       "</g>\n",
       "<!-- &#45;798165132484454187 -->\n",
       "<g class=\"node\" id=\"node4\"><title>-798165132484454187</title>\n",
       "<polygon fill=\"none\" points=\"126,-36 72,-36 72,-0 126,-0 126,-36\" stroke=\"black\"/>\n",
       "<text font-family=\"Times,serif\" font-size=\"14.00\" text-anchor=\"middle\" x=\"99\" y=\"-13.8\">a</text>\n",
       "</g>\n",
       "<!-- &#45;798165132484454187&#45;&gt;&#45;2762866560837168142 -->\n",
       "<g class=\"edge\" id=\"edge2\"><title>-798165132484454187-&gt;-2762866560837168142</title>\n",
       "<path d=\"M99,-36.3568C99,-43.8469 99,-52.8595 99,-61.5032\" fill=\"none\" stroke=\"black\"/>\n",
       "<polygon fill=\"black\" points=\"95.5001,-61.7365 99,-71.7366 102.5,-61.7366 95.5001,-61.7365\" stroke=\"black\"/>\n",
       "</g>\n",
       "<!-- 8757684963353381634 -->\n",
       "<g class=\"node\" id=\"node5\"><title>8757684963353381634</title>\n",
       "<polygon fill=\"none\" points=\"54,-189.671 0,-189.671 0,-153.671 54,-153.671 54,-189.671\" stroke=\"black\"/>\n",
       "<text font-family=\"Times,serif\" font-size=\"14.00\" text-anchor=\"middle\" x=\"27\" y=\"-167.471\">y</text>\n",
       "</g>\n",
       "<!-- 8757684963353381634&#45;&gt;6164642048807067533 -->\n",
       "<g class=\"edge\" id=\"edge7\"><title>8757684963353381634-&gt;6164642048807067533</title>\n",
       "<path d=\"M34.9896,-189.755C38.9454,-198.214 43.8471,-208.695 48.4387,-218.514\" fill=\"none\" stroke=\"black\"/>\n",
       "<polygon fill=\"black\" points=\"45.2982,-220.061 52.7049,-227.637 51.6391,-217.095 45.2982,-220.061\" stroke=\"black\"/>\n",
       "</g>\n",
       "<!-- &#45;3251819173171721967&#45;&gt;8757684963353381634 -->\n",
       "<g class=\"edge\" id=\"edge3\"><title>-3251819173171721967-&gt;8757684963353381634</title>\n",
       "<path d=\"M27,-117.884C27,-125.887 27,-135.025 27,-143.424\" fill=\"none\" stroke=\"black\"/>\n",
       "<polygon fill=\"black\" points=\"23.5001,-143.525 27,-153.525 30.5001,-143.525 23.5001,-143.525\" stroke=\"black\"/>\n",
       "</g>\n",
       "<!-- &#45;6195730727040075802 -->\n",
       "<g class=\"node\" id=\"node7\"><title>-6195730727040075802</title>\n",
       "<polygon fill=\"none\" points=\"90,-347.631 36,-347.631 36,-311.631 90,-311.631 90,-347.631\" stroke=\"black\"/>\n",
       "<text font-family=\"Times,serif\" font-size=\"14.00\" text-anchor=\"middle\" x=\"63\" y=\"-325.431\">z</text>\n",
       "</g>\n",
       "<!-- 6164642048807067533&#45;&gt;&#45;6195730727040075802 -->\n",
       "<g class=\"edge\" id=\"edge5\"><title>6164642048807067533-&gt;-6195730727040075802</title>\n",
       "<path d=\"M63,-276.008C63,-283.971 63,-292.871 63,-301.054\" fill=\"none\" stroke=\"black\"/>\n",
       "<polygon fill=\"black\" points=\"59.5001,-301.259 63,-311.259 66.5001,-301.259 59.5001,-301.259\" stroke=\"black\"/>\n",
       "</g>\n",
       "</g>\n",
       "</svg>"
      ],
      "text/plain": [
       "<IPython.core.display.SVG object>"
      ]
     },
     "execution_count": 10,
     "metadata": {},
     "output_type": "execute_result"
    }
   ],
   "source": [
    "# Requires that you have pydot and graphviz installed\n",
    "# This isn't a problem if this doesn't work for you\n",
    "from dask.dot import dot_graph\n",
    "dot_graph(dsk, format='svg')"
   ]
  },
  {
   "cell_type": "markdown",
   "metadata": {},
   "source": [
    "That's it\n",
    "----------\n",
    "\n",
    "The rest of this tutorial is fancy ways to construct and executing dask graphs.  We won't make any more by hand after this notebook.  If you'd like to learn more, read the [dask graph spec](http://dask.pydata.org/en/latest/spec.html)."
   ]
  },
  {
   "cell_type": "markdown",
   "metadata": {},
   "source": [
    "Exercise - `read_csv`\n",
    "------------------------\n",
    "\n",
    "Let's look again at the exercise of the previous notebook with the accounts csv files. As an exercise we'll parallelize this example by rewriting it manually as a dask graph.  This will be a little tedious but should give us speedups right away.  In future sections we'll learn how dask submodules like `dask.dataframe` automate this work for us.\n",
    "\n",
    "There are three CSV files in your `data` directory.   We count how many rows are in all of these csv files total.  In normal Python we solve this problem in the following way (version without a for loop)."
   ]
  },
  {
   "cell_type": "code",
   "execution_count": 11,
   "metadata": {
    "collapsed": false
   },
   "outputs": [
    {
     "data": {
      "text/plain": [
       "['data/accounts.0.csv', 'data/accounts.1.csv', 'data/accounts.2.csv']"
      ]
     },
     "execution_count": 11,
     "metadata": {},
     "output_type": "execute_result"
    }
   ],
   "source": [
    "import pandas as pd\n",
    "\n",
    "import os\n",
    "filenames = [os.path.join('data', 'accounts.%d.csv' % i) for i in [0, 1, 2]]\n",
    "filenames"
   ]
  },
  {
   "cell_type": "code",
   "execution_count": 13,
   "metadata": {
    "collapsed": false
   },
   "outputs": [
    {
     "name": "stdout",
     "output_type": "stream",
     "text": [
      "CPU times: user 4.09 s, sys: 856 ms, total: 4.94 s\n",
      "Wall time: 5.07 s\n"
     ]
    }
   ],
   "source": [
    "%%time \n",
    "\n",
    "a = pd.read_csv(filenames[0])\n",
    "b = pd.read_csv(filenames[1])\n",
    "c = pd.read_csv(filenames[2])\n",
    "\n",
    "na = len(a)\n",
    "nb = len(b)\n",
    "nc = len(c)\n",
    "\n",
    "total = sum([na, nb, nc])\n",
    "total"
   ]
  },
  {
   "cell_type": "code",
   "execution_count": 14,
   "metadata": {
    "collapsed": false
   },
   "outputs": [
    {
     "data": {
      "text/plain": [
       "15000000"
      ]
     },
     "execution_count": 14,
     "metadata": {},
     "output_type": "execute_result"
    }
   ],
   "source": [
    "total"
   ]
  },
  {
   "cell_type": "markdown",
   "metadata": {},
   "source": [
    "### Construct a dask graph/dictionary for this computation\n",
    "\n",
    "Just as we turned code that looks like \n",
    "\n",
    "```python\n",
    "y = f(x)\n",
    "```\n",
    "\n",
    "into dictionaries like \n",
    "\n",
    "```python\n",
    "{'y': (f, 'x')}\n",
    "```\n",
    "\n",
    "We can transform the above calls to `pd.read_csv`, `len`, and `sum` into a dictionary of tuples"
   ]
  },
  {
   "cell_type": "code",
   "execution_count": null,
   "metadata": {
    "collapsed": true
   },
   "outputs": [],
   "source": [
    "dsk = {'a': (pd.read_csv, filenames[0]),\n",
    "       'b': ...,\n",
    "       ...\n",
    "       'total': ...}"
   ]
  },
  {
   "cell_type": "code",
   "execution_count": 16,
   "metadata": {
    "clear_cell": true,
    "collapsed": false
   },
   "outputs": [],
   "source": [
    "dsk = {'a': (pd.read_csv, filenames[0]),\n",
    "       'b': (pd.read_csv, filenames[1]),\n",
    "       'c': (pd.read_csv, filenames[2]),\n",
    "       'na': (len, 'a'),\n",
    "       'nb': (len, 'b'),\n",
    "       'nc': (len, 'c'),\n",
    "       'total': (sum, ['na', 'nb', 'nc'])}"
   ]
  },
  {
   "cell_type": "markdown",
   "metadata": {},
   "source": [
    "### Execute your dask graph\n",
    "\n",
    "We execute dask graphs with the `get` functions.  There is a get function for both multi-threading and multi-processing.  Get takes two arguments\n",
    "\n",
    "    get(dsk, output_key)\n",
    "\n",
    "Run the following cells and see how each get function performs.  Why is there a difference?"
   ]
  },
  {
   "cell_type": "code",
   "execution_count": 17,
   "metadata": {
    "collapsed": false
   },
   "outputs": [
    {
     "name": "stdout",
     "output_type": "stream",
     "text": [
      "CPU times: user 4.71 s, sys: 1.5 s, total: 6.21 s\n",
      "Wall time: 2.94 s\n"
     ]
    },
    {
     "data": {
      "text/plain": [
       "15000000"
      ]
     },
     "execution_count": 17,
     "metadata": {},
     "output_type": "execute_result"
    }
   ],
   "source": [
    "from dask.threaded import get\n",
    "%time get(dsk, 'total')"
   ]
  },
  {
   "cell_type": "code",
   "execution_count": 18,
   "metadata": {
    "collapsed": false
   },
   "outputs": [
    {
     "name": "stdout",
     "output_type": "stream",
     "text": [
      "CPU times: user 20 ms, sys: 100 ms, total: 120 ms\n",
      "Wall time: 2.99 s\n"
     ]
    },
    {
     "data": {
      "text/plain": [
       "15000000"
      ]
     },
     "execution_count": 18,
     "metadata": {},
     "output_type": "execute_result"
    }
   ],
   "source": [
    "from dask.multiprocessing import get\n",
    "%time get(dsk, 'total')"
   ]
  },
  {
   "cell_type": "markdown",
   "metadata": {},
   "source": [
    "## Task graphs created by Dask collections\n"
   ]
  },
  {
   "cell_type": "markdown",
   "metadata": {},
   "source": [
    "In the previous notebook we already saw how we could perform the above exercise with a `dask.dataframe` instead of manually creating the task dictionaries. Let's repeat that here and look at the created dask task graph."
   ]
  },
  {
   "cell_type": "code",
   "execution_count": 14,
   "metadata": {
    "collapsed": true
   },
   "outputs": [],
   "source": [
    "import dask.dataframe as dd"
   ]
  },
  {
   "cell_type": "code",
   "execution_count": 51,
   "metadata": {
    "collapsed": false
   },
   "outputs": [],
   "source": [
    "df = dd.read_csv(\"data/accounts.*.csv\", blocksize=int(150e6)) # the large blocksize is to simplify the graphs"
   ]
  },
  {
   "cell_type": "code",
   "execution_count": 52,
   "metadata": {
    "collapsed": false
   },
   "outputs": [
    {
     "data": {
      "text/plain": [
       "dd.DataFrame<from-de..., npartitions=3>"
      ]
     },
     "execution_count": 52,
     "metadata": {},
     "output_type": "execute_result"
    }
   ],
   "source": [
    "df"
   ]
  },
  {
   "cell_type": "code",
   "execution_count": 53,
   "metadata": {
    "collapsed": false
   },
   "outputs": [
    {
     "name": "stdout",
     "output_type": "stream",
     "text": [
      "CPU times: user 9.82 s, sys: 2.37 s, total: 12.2 s\n",
      "Wall time: 7.49 s\n"
     ]
    },
    {
     "data": {
      "text/plain": [
       "30000000"
      ]
     },
     "execution_count": 53,
     "metadata": {},
     "output_type": "execute_result"
    }
   ],
   "source": [
    "%time len(df)"
   ]
  },
  {
   "cell_type": "markdown",
   "metadata": {},
   "source": [
    "### Exercise: Inspect dask graph\n",
    "\n",
    "Dask `DataFrame` copies a subset of the Pandas API.  \n",
    "\n",
    "However unlike Pandas, operations on dask.dataframes don't trigger immediate computation, instead they add key-value pairs to an underlying dask graph."
   ]
  },
  {
   "cell_type": "code",
   "execution_count": 18,
   "metadata": {
    "collapsed": false
   },
   "outputs": [
    {
     "data": {
      "image/svg+xml": [
       "<svg height=\"543pt\" viewBox=\"0.00 0.00 614.47 542.80\" width=\"614pt\" xmlns=\"http://www.w3.org/2000/svg\" xmlns:xlink=\"http://www.w3.org/1999/xlink\">\n",
       "<g class=\"graph\" id=\"graph0\" transform=\"scale(1 1) rotate(0) translate(4 538.796)\">\n",
       "<title>%3</title>\n",
       "<polygon fill=\"white\" points=\"-4,4 -4,-538.796 610.467,-538.796 610.467,4 -4,4\" stroke=\"none\"/>\n",
       "<!-- 588781142928492293 -->\n",
       "<g class=\"node\" id=\"node1\"><title>588781142928492293</title>\n",
       "<polygon fill=\"none\" points=\"160.228,-262.467 30.2387,-262.467 30.2387,-226.467 160.228,-226.467 160.228,-262.467\" stroke=\"black\"/>\n",
       "<text font-family=\"Times,serif\" font-size=\"14.00\" text-anchor=\"middle\" x=\"95.2335\" y=\"-240.267\">read-file-block-#0-0</text>\n",
       "</g>\n",
       "<!-- &#45;868480477344212613 -->\n",
       "<g class=\"node\" id=\"node15\"><title>-868480477344212613</title>\n",
       "<ellipse cx=\"95.2335\" cy=\"-344.632\" fill=\"none\" rx=\"46.3298\" ry=\"46.3298\" stroke=\"black\"/>\n",
       "<text font-family=\"Times,serif\" font-size=\"14.00\" text-anchor=\"middle\" x=\"95.2335\" y=\"-340.432\">apply(...)</text>\n",
       "</g>\n",
       "<!-- 588781142928492293&#45;&gt;&#45;868480477344212613 -->\n",
       "<g class=\"edge\" id=\"edge12\"><title>588781142928492293-&gt;-868480477344212613</title>\n",
       "<path d=\"M95.2335,-262.566C95.2335,-269.827 95.2335,-278.743 95.2335,-287.974\" fill=\"none\" stroke=\"black\"/>\n",
       "<polygon fill=\"black\" points=\"91.7336,-288.052 95.2335,-298.052 98.7336,-288.052 91.7336,-288.052\" stroke=\"black\"/>\n",
       "</g>\n",
       "<!-- &#45;7968894600996300650 -->\n",
       "<g class=\"node\" id=\"node2\"><title>-7968894600996300650</title>\n",
       "<ellipse cx=\"95.2335\" cy=\"-95.2335\" fill=\"none\" rx=\"95.4675\" ry=\"95.4675\" stroke=\"black\"/>\n",
       "<text font-family=\"Times,serif\" font-size=\"14.00\" text-anchor=\"middle\" x=\"95.2335\" y=\"-91.0335\">read_block_from_file</text>\n",
       "</g>\n",
       "<!-- &#45;7968894600996300650&#45;&gt;588781142928492293 -->\n",
       "<g class=\"edge\" id=\"edge1\"><title>-7968894600996300650-&gt;588781142928492293</title>\n",
       "<path d=\"M95.2335,-190.728C95.2335,-199.758 95.2335,-208.332 95.2335,-215.84\" fill=\"none\" stroke=\"black\"/>\n",
       "<polygon fill=\"black\" points=\"91.7336,-216.008 95.2335,-226.008 98.7336,-216.008 91.7336,-216.008\" stroke=\"black\"/>\n",
       "</g>\n",
       "<!-- 3352548867560099059 -->\n",
       "<g class=\"node\" id=\"node3\"><title>3352548867560099059</title>\n",
       "<polygon fill=\"none\" points=\"166.444,-534.796 24.0234,-534.796 24.0234,-498.796 166.444,-498.796 166.444,-534.796\" stroke=\"black\"/>\n",
       "<text font-family=\"Times,serif\" font-size=\"14.00\" text-anchor=\"middle\" x=\"95.2335\" y=\"-512.596\">('from-delayed-#1', 2)</text>\n",
       "</g>\n",
       "<!-- 7445904989781870744 -->\n",
       "<g class=\"node\" id=\"node4\"><title>7445904989781870744</title>\n",
       "<polygon fill=\"none\" points=\"155.693,-462.796 34.7741,-462.796 34.7741,-426.796 155.693,-426.796 155.693,-462.796\" stroke=\"black\"/>\n",
       "<text font-family=\"Times,serif\" font-size=\"14.00\" text-anchor=\"middle\" x=\"95.2335\" y=\"-440.596\">bytes_read_csv-#6</text>\n",
       "</g>\n",
       "<!-- 7445904989781870744&#45;&gt;3352548867560099059 -->\n",
       "<g class=\"edge\" id=\"edge2\"><title>7445904989781870744-&gt;3352548867560099059</title>\n",
       "<path d=\"M95.2335,-463.1C95.2335,-470.813 95.2335,-480.084 95.2335,-488.684\" fill=\"none\" stroke=\"black\"/>\n",
       "<polygon fill=\"black\" points=\"91.7336,-488.692 95.2335,-498.692 98.7336,-488.692 91.7336,-488.692\" stroke=\"black\"/>\n",
       "</g>\n",
       "<!-- &#45;1552934913763745112 -->\n",
       "<g class=\"node\" id=\"node5\"><title>-1552934913763745112</title>\n",
       "<polygon fill=\"none\" points=\"363.693,-462.796 242.774,-462.796 242.774,-426.796 363.693,-426.796 363.693,-462.796\" stroke=\"black\"/>\n",
       "<text font-family=\"Times,serif\" font-size=\"14.00\" text-anchor=\"middle\" x=\"303.233\" y=\"-440.596\">bytes_read_csv-#2</text>\n",
       "</g>\n",
       "<!-- 3352548867562264109 -->\n",
       "<g class=\"node\" id=\"node12\"><title>3352548867562264109</title>\n",
       "<polygon fill=\"none\" points=\"374.444,-534.796 232.023,-534.796 232.023,-498.796 374.444,-498.796 374.444,-534.796\" stroke=\"black\"/>\n",
       "<text font-family=\"Times,serif\" font-size=\"14.00\" text-anchor=\"middle\" x=\"303.233\" y=\"-512.596\">('from-delayed-#1', 0)</text>\n",
       "</g>\n",
       "<!-- &#45;1552934913763745112&#45;&gt;3352548867562264109 -->\n",
       "<g class=\"edge\" id=\"edge8\"><title>-1552934913763745112-&gt;3352548867562264109</title>\n",
       "<path d=\"M303.233,-463.1C303.233,-470.813 303.233,-480.084 303.233,-488.684\" fill=\"none\" stroke=\"black\"/>\n",
       "<polygon fill=\"black\" points=\"299.734,-488.692 303.233,-498.692 306.734,-488.692 299.734,-488.692\" stroke=\"black\"/>\n",
       "</g>\n",
       "<!-- &#45;8542127282046161397 -->\n",
       "<g class=\"node\" id=\"node6\"><title>-8542127282046161397</title>\n",
       "<ellipse cx=\"303.233\" cy=\"-344.632\" fill=\"none\" rx=\"46.3298\" ry=\"46.3298\" stroke=\"black\"/>\n",
       "<text font-family=\"Times,serif\" font-size=\"14.00\" text-anchor=\"middle\" x=\"303.233\" y=\"-340.432\">apply(...)</text>\n",
       "</g>\n",
       "<!-- &#45;8542127282046161397&#45;&gt;&#45;1552934913763745112 -->\n",
       "<g class=\"edge\" id=\"edge3\"><title>-8542127282046161397-&gt;-1552934913763745112</title>\n",
       "<path d=\"M303.233,-390.978C303.233,-399.682 303.233,-408.543 303.233,-416.458\" fill=\"none\" stroke=\"black\"/>\n",
       "<polygon fill=\"black\" points=\"299.734,-416.562 303.233,-426.562 306.734,-416.562 299.734,-416.562\" stroke=\"black\"/>\n",
       "</g>\n",
       "<!-- 3071124279630427477 -->\n",
       "<g class=\"node\" id=\"node7\"><title>3071124279630427477</title>\n",
       "<polygon fill=\"none\" points=\"368.228,-262.467 238.239,-262.467 238.239,-226.467 368.228,-226.467 368.228,-262.467\" stroke=\"black\"/>\n",
       "<text font-family=\"Times,serif\" font-size=\"14.00\" text-anchor=\"middle\" x=\"303.233\" y=\"-240.267\">read-file-block-#3-0</text>\n",
       "</g>\n",
       "<!-- 3071124279630427477&#45;&gt;&#45;8542127282046161397 -->\n",
       "<g class=\"edge\" id=\"edge4\"><title>3071124279630427477-&gt;-8542127282046161397</title>\n",
       "<path d=\"M303.233,-262.566C303.233,-269.827 303.233,-278.743 303.233,-287.974\" fill=\"none\" stroke=\"black\"/>\n",
       "<polygon fill=\"black\" points=\"299.734,-288.052 303.233,-298.052 306.734,-288.052 299.734,-288.052\" stroke=\"black\"/>\n",
       "</g>\n",
       "<!-- 3352548867563346634 -->\n",
       "<g class=\"node\" id=\"node8\"><title>3352548867563346634</title>\n",
       "<polygon fill=\"none\" points=\"582.444,-534.796 440.023,-534.796 440.023,-498.796 582.444,-498.796 582.444,-534.796\" stroke=\"black\"/>\n",
       "<text font-family=\"Times,serif\" font-size=\"14.00\" text-anchor=\"middle\" x=\"511.233\" y=\"-512.596\">('from-delayed-#1', 1)</text>\n",
       "</g>\n",
       "<!-- 1168008811222514283 -->\n",
       "<g class=\"node\" id=\"node9\"><title>1168008811222514283</title>\n",
       "<polygon fill=\"none\" points=\"571.693,-462.796 450.774,-462.796 450.774,-426.796 571.693,-426.796 571.693,-462.796\" stroke=\"black\"/>\n",
       "<text font-family=\"Times,serif\" font-size=\"14.00\" text-anchor=\"middle\" x=\"511.233\" y=\"-440.596\">bytes_read_csv-#4</text>\n",
       "</g>\n",
       "<!-- 1168008811222514283&#45;&gt;3352548867563346634 -->\n",
       "<g class=\"edge\" id=\"edge5\"><title>1168008811222514283-&gt;3352548867563346634</title>\n",
       "<path d=\"M511.233,-463.1C511.233,-470.813 511.233,-480.084 511.233,-488.684\" fill=\"none\" stroke=\"black\"/>\n",
       "<polygon fill=\"black\" points=\"507.734,-488.692 511.233,-498.692 514.734,-488.692 507.734,-488.692\" stroke=\"black\"/>\n",
       "</g>\n",
       "<!-- 1220975072316527120 -->\n",
       "<g class=\"node\" id=\"node10\"><title>1220975072316527120</title>\n",
       "<ellipse cx=\"511.233\" cy=\"-344.632\" fill=\"none\" rx=\"46.3298\" ry=\"46.3298\" stroke=\"black\"/>\n",
       "<text font-family=\"Times,serif\" font-size=\"14.00\" text-anchor=\"middle\" x=\"511.233\" y=\"-340.432\">apply(...)</text>\n",
       "</g>\n",
       "<!-- 1220975072316527120&#45;&gt;1168008811222514283 -->\n",
       "<g class=\"edge\" id=\"edge6\"><title>1220975072316527120-&gt;1168008811222514283</title>\n",
       "<path d=\"M511.233,-390.978C511.233,-399.682 511.233,-408.543 511.233,-416.458\" fill=\"none\" stroke=\"black\"/>\n",
       "<polygon fill=\"black\" points=\"507.734,-416.562 511.233,-426.562 514.734,-416.562 507.734,-416.562\" stroke=\"black\"/>\n",
       "</g>\n",
       "<!-- &#45;1448827639363471277 -->\n",
       "<g class=\"node\" id=\"node11\"><title>-1448827639363471277</title>\n",
       "<polygon fill=\"none\" points=\"576.228,-262.467 446.239,-262.467 446.239,-226.467 576.228,-226.467 576.228,-262.467\" stroke=\"black\"/>\n",
       "<text font-family=\"Times,serif\" font-size=\"14.00\" text-anchor=\"middle\" x=\"511.233\" y=\"-240.267\">read-file-block-#5-0</text>\n",
       "</g>\n",
       "<!-- &#45;1448827639363471277&#45;&gt;1220975072316527120 -->\n",
       "<g class=\"edge\" id=\"edge7\"><title>-1448827639363471277-&gt;1220975072316527120</title>\n",
       "<path d=\"M511.233,-262.566C511.233,-269.827 511.233,-278.743 511.233,-287.974\" fill=\"none\" stroke=\"black\"/>\n",
       "<polygon fill=\"black\" points=\"507.734,-288.052 511.233,-298.052 514.734,-288.052 507.734,-288.052\" stroke=\"black\"/>\n",
       "</g>\n",
       "<!-- 8858623524210577784 -->\n",
       "<g class=\"node\" id=\"node13\"><title>8858623524210577784</title>\n",
       "<ellipse cx=\"511.233\" cy=\"-95.2335\" fill=\"none\" rx=\"95.4675\" ry=\"95.4675\" stroke=\"black\"/>\n",
       "<text font-family=\"Times,serif\" font-size=\"14.00\" text-anchor=\"middle\" x=\"511.233\" y=\"-91.0335\">read_block_from_file</text>\n",
       "</g>\n",
       "<!-- 8858623524210577784&#45;&gt;&#45;1448827639363471277 -->\n",
       "<g class=\"edge\" id=\"edge9\"><title>8858623524210577784-&gt;-1448827639363471277</title>\n",
       "<path d=\"M511.233,-190.728C511.233,-199.758 511.233,-208.332 511.233,-215.84\" fill=\"none\" stroke=\"black\"/>\n",
       "<polygon fill=\"black\" points=\"507.734,-216.008 511.233,-226.008 514.734,-216.008 507.734,-216.008\" stroke=\"black\"/>\n",
       "</g>\n",
       "<!-- &#45;7937299325797191002 -->\n",
       "<g class=\"node\" id=\"node14\"><title>-7937299325797191002</title>\n",
       "<ellipse cx=\"303.233\" cy=\"-95.2335\" fill=\"none\" rx=\"95.4675\" ry=\"95.4675\" stroke=\"black\"/>\n",
       "<text font-family=\"Times,serif\" font-size=\"14.00\" text-anchor=\"middle\" x=\"303.233\" y=\"-91.0335\">read_block_from_file</text>\n",
       "</g>\n",
       "<!-- &#45;7937299325797191002&#45;&gt;3071124279630427477 -->\n",
       "<g class=\"edge\" id=\"edge10\"><title>-7937299325797191002-&gt;3071124279630427477</title>\n",
       "<path d=\"M303.233,-190.728C303.233,-199.758 303.233,-208.332 303.233,-215.84\" fill=\"none\" stroke=\"black\"/>\n",
       "<polygon fill=\"black\" points=\"299.734,-216.008 303.233,-226.008 306.734,-216.008 299.734,-216.008\" stroke=\"black\"/>\n",
       "</g>\n",
       "<!-- &#45;868480477344212613&#45;&gt;7445904989781870744 -->\n",
       "<g class=\"edge\" id=\"edge11\"><title>-868480477344212613-&gt;7445904989781870744</title>\n",
       "<path d=\"M95.2335,-390.978C95.2335,-399.682 95.2335,-408.543 95.2335,-416.458\" fill=\"none\" stroke=\"black\"/>\n",
       "<polygon fill=\"black\" points=\"91.7336,-416.562 95.2335,-426.562 98.7336,-416.562 91.7336,-416.562\" stroke=\"black\"/>\n",
       "</g>\n",
       "</g>\n",
       "</svg>"
      ],
      "text/plain": [
       "<IPython.core.display.SVG object>"
      ]
     },
     "execution_count": 18,
     "metadata": {},
     "output_type": "execute_result"
    }
   ],
   "source": [
    "df.visualize(format='svg')"
   ]
  },
  {
   "cell_type": "code",
   "execution_count": 20,
   "metadata": {
    "collapsed": false
   },
   "outputs": [
    {
     "data": {
      "image/svg+xml": [
       "<svg height=\"1104pt\" viewBox=\"0.00 0.00 614.47 1104.11\" width=\"614pt\" xmlns=\"http://www.w3.org/2000/svg\" xmlns:xlink=\"http://www.w3.org/1999/xlink\">\n",
       "<g class=\"graph\" id=\"graph0\" transform=\"scale(1 1) rotate(0) translate(4 1100.11)\">\n",
       "<title>%3</title>\n",
       "<polygon fill=\"white\" points=\"-4,4 -4,-1100.11 610.467,-1100.11 610.467,4 -4,4\" stroke=\"none\"/>\n",
       "<!-- 588781142928492293 -->\n",
       "<g class=\"node\" id=\"node1\"><title>588781142928492293</title>\n",
       "<polygon fill=\"none\" points=\"575.228,-262.467 445.239,-262.467 445.239,-226.467 575.228,-226.467 575.228,-262.467\" stroke=\"black\"/>\n",
       "<text font-family=\"Times,serif\" font-size=\"14.00\" text-anchor=\"middle\" x=\"510.233\" y=\"-240.267\">read-file-block-#0-0</text>\n",
       "</g>\n",
       "<!-- &#45;868480477344212613 -->\n",
       "<g class=\"node\" id=\"node13\"><title>-868480477344212613</title>\n",
       "<ellipse cx=\"504.233\" cy=\"-344.632\" fill=\"none\" rx=\"46.3298\" ry=\"46.3298\" stroke=\"black\"/>\n",
       "<text font-family=\"Times,serif\" font-size=\"14.00\" text-anchor=\"middle\" x=\"504.233\" y=\"-340.432\">apply(...)</text>\n",
       "</g>\n",
       "<!-- 588781142928492293&#45;&gt;&#45;868480477344212613 -->\n",
       "<g class=\"edge\" id=\"edge8\"><title>588781142928492293-&gt;-868480477344212613</title>\n",
       "<path d=\"M509.188,-262.566C508.74,-269.908 508.187,-278.941 507.617,-288.282\" fill=\"none\" stroke=\"black\"/>\n",
       "<polygon fill=\"black\" points=\"504.11,-288.278 506.994,-298.473 511.097,-288.705 504.11,-288.278\" stroke=\"black\"/>\n",
       "</g>\n",
       "<!-- &#45;7968894600996300650 -->\n",
       "<g class=\"node\" id=\"node2\"><title>-7968894600996300650</title>\n",
       "<ellipse cx=\"511.233\" cy=\"-95.2335\" fill=\"none\" rx=\"95.4675\" ry=\"95.4675\" stroke=\"black\"/>\n",
       "<text font-family=\"Times,serif\" font-size=\"14.00\" text-anchor=\"middle\" x=\"511.233\" y=\"-91.0335\">read_block_from_file</text>\n",
       "</g>\n",
       "<!-- &#45;7968894600996300650&#45;&gt;588781142928492293 -->\n",
       "<g class=\"edge\" id=\"edge1\"><title>-7968894600996300650-&gt;588781142928492293</title>\n",
       "<path d=\"M510.592,-190.728C510.53,-199.758 510.472,-208.332 510.421,-215.84\" fill=\"none\" stroke=\"black\"/>\n",
       "<polygon fill=\"black\" points=\"506.92,-215.985 510.352,-226.008 513.92,-216.032 506.92,-215.985\" stroke=\"black\"/>\n",
       "</g>\n",
       "<!-- 3352548867563346634 -->\n",
       "<g class=\"node\" id=\"node3\"><title>3352548867563346634</title>\n",
       "<polygon fill=\"none\" points=\"374.444,-534.796 232.023,-534.796 232.023,-498.796 374.444,-498.796 374.444,-534.796\" stroke=\"black\"/>\n",
       "<text font-family=\"Times,serif\" font-size=\"14.00\" text-anchor=\"middle\" x=\"303.233\" y=\"-512.596\">('from-delayed-#1', 1)</text>\n",
       "</g>\n",
       "<!-- 8106178328794853170 -->\n",
       "<g class=\"node\" id=\"node28\"><title>8106178328794853170</title>\n",
       "<ellipse cx=\"303.233\" cy=\"-610.798\" fill=\"none\" rx=\"40.0031\" ry=\"40.0031\" stroke=\"black\"/>\n",
       "<text font-family=\"Times,serif\" font-size=\"14.00\" text-anchor=\"middle\" x=\"303.233\" y=\"-606.598\">getitem</text>\n",
       "</g>\n",
       "<!-- 3352548867563346634&#45;&gt;8106178328794853170 -->\n",
       "<g class=\"edge\" id=\"edge26\"><title>3352548867563346634-&gt;8106178328794853170</title>\n",
       "<path d=\"M303.233,-535.101C303.233,-542.362 303.233,-551.212 303.233,-560.245\" fill=\"none\" stroke=\"black\"/>\n",
       "<polygon fill=\"black\" points=\"299.734,-560.447 303.233,-570.447 306.734,-560.447 299.734,-560.447\" stroke=\"black\"/>\n",
       "</g>\n",
       "<!-- 1168008811222514283 -->\n",
       "<g class=\"node\" id=\"node4\"><title>1168008811222514283</title>\n",
       "<polygon fill=\"none\" points=\"363.693,-462.796 242.774,-462.796 242.774,-426.796 363.693,-426.796 363.693,-462.796\" stroke=\"black\"/>\n",
       "<text font-family=\"Times,serif\" font-size=\"14.00\" text-anchor=\"middle\" x=\"303.233\" y=\"-440.596\">bytes_read_csv-#8</text>\n",
       "</g>\n",
       "<!-- 1168008811222514283&#45;&gt;3352548867563346634 -->\n",
       "<g class=\"edge\" id=\"edge2\"><title>1168008811222514283-&gt;3352548867563346634</title>\n",
       "<path d=\"M303.233,-463.1C303.233,-470.813 303.233,-480.084 303.233,-488.684\" fill=\"none\" stroke=\"black\"/>\n",
       "<polygon fill=\"black\" points=\"299.734,-488.692 303.233,-498.692 306.734,-488.692 299.734,-488.692\" stroke=\"black\"/>\n",
       "</g>\n",
       "<!-- &#45;1448827639363471277 -->\n",
       "<g class=\"node\" id=\"node5\"><title>-1448827639363471277</title>\n",
       "<polygon fill=\"none\" points=\"368.228,-262.467 238.239,-262.467 238.239,-226.467 368.228,-226.467 368.228,-262.467\" stroke=\"black\"/>\n",
       "<text font-family=\"Times,serif\" font-size=\"14.00\" text-anchor=\"middle\" x=\"303.233\" y=\"-240.267\">read-file-block-#2-0</text>\n",
       "</g>\n",
       "<!-- 1220975072316527120 -->\n",
       "<g class=\"node\" id=\"node26\"><title>1220975072316527120</title>\n",
       "<ellipse cx=\"303.233\" cy=\"-344.632\" fill=\"none\" rx=\"46.3298\" ry=\"46.3298\" stroke=\"black\"/>\n",
       "<text font-family=\"Times,serif\" font-size=\"14.00\" text-anchor=\"middle\" x=\"303.233\" y=\"-340.432\">apply(...)</text>\n",
       "</g>\n",
       "<!-- &#45;1448827639363471277&#45;&gt;1220975072316527120 -->\n",
       "<g class=\"edge\" id=\"edge22\"><title>-1448827639363471277-&gt;1220975072316527120</title>\n",
       "<path d=\"M303.233,-262.566C303.233,-269.827 303.233,-278.743 303.233,-287.974\" fill=\"none\" stroke=\"black\"/>\n",
       "<polygon fill=\"black\" points=\"299.734,-288.052 303.233,-298.052 306.734,-288.052 299.734,-288.052\" stroke=\"black\"/>\n",
       "</g>\n",
       "<!-- 8858623524210577784 -->\n",
       "<g class=\"node\" id=\"node6\"><title>8858623524210577784</title>\n",
       "<ellipse cx=\"303.233\" cy=\"-95.2335\" fill=\"none\" rx=\"95.4675\" ry=\"95.4675\" stroke=\"black\"/>\n",
       "<text font-family=\"Times,serif\" font-size=\"14.00\" text-anchor=\"middle\" x=\"303.233\" y=\"-91.0335\">read_block_from_file</text>\n",
       "</g>\n",
       "<!-- 8858623524210577784&#45;&gt;&#45;1448827639363471277 -->\n",
       "<g class=\"edge\" id=\"edge3\"><title>8858623524210577784-&gt;-1448827639363471277</title>\n",
       "<path d=\"M303.233,-190.728C303.233,-199.758 303.233,-208.332 303.233,-215.84\" fill=\"none\" stroke=\"black\"/>\n",
       "<polygon fill=\"black\" points=\"299.734,-216.008 303.233,-226.008 306.734,-216.008 299.734,-216.008\" stroke=\"black\"/>\n",
       "</g>\n",
       "<!-- 3071124279630427477 -->\n",
       "<g class=\"node\" id=\"node7\"><title>3071124279630427477</title>\n",
       "<polygon fill=\"none\" points=\"160.228,-262.467 30.2387,-262.467 30.2387,-226.467 160.228,-226.467 160.228,-262.467\" stroke=\"black\"/>\n",
       "<text font-family=\"Times,serif\" font-size=\"14.00\" text-anchor=\"middle\" x=\"95.2335\" y=\"-240.267\">read-file-block-#3-0</text>\n",
       "</g>\n",
       "<!-- &#45;8542127282046161397 -->\n",
       "<g class=\"node\" id=\"node25\"><title>-8542127282046161397</title>\n",
       "<ellipse cx=\"96.2335\" cy=\"-344.632\" fill=\"none\" rx=\"46.3298\" ry=\"46.3298\" stroke=\"black\"/>\n",
       "<text font-family=\"Times,serif\" font-size=\"14.00\" text-anchor=\"middle\" x=\"96.2335\" y=\"-340.432\">apply(...)</text>\n",
       "</g>\n",
       "<!-- 3071124279630427477&#45;&gt;&#45;8542127282046161397 -->\n",
       "<g class=\"edge\" id=\"edge20\"><title>3071124279630427477-&gt;-8542127282046161397</title>\n",
       "<path d=\"M95.4077,-262.566C95.4816,-269.827 95.5725,-278.743 95.6665,-287.974\" fill=\"none\" stroke=\"black\"/>\n",
       "<polygon fill=\"black\" points=\"92.1674,-288.088 95.7692,-298.052 99.167,-288.016 92.1674,-288.088\" stroke=\"black\"/>\n",
       "</g>\n",
       "<!-- &#45;7937299325797191002 -->\n",
       "<g class=\"node\" id=\"node8\"><title>-7937299325797191002</title>\n",
       "<ellipse cx=\"95.2335\" cy=\"-95.2335\" fill=\"none\" rx=\"95.4675\" ry=\"95.4675\" stroke=\"black\"/>\n",
       "<text font-family=\"Times,serif\" font-size=\"14.00\" text-anchor=\"middle\" x=\"95.2335\" y=\"-91.0335\">read_block_from_file</text>\n",
       "</g>\n",
       "<!-- &#45;7937299325797191002&#45;&gt;3071124279630427477 -->\n",
       "<g class=\"edge\" id=\"edge4\"><title>-7937299325797191002-&gt;3071124279630427477</title>\n",
       "<path d=\"M95.2335,-190.728C95.2335,-199.758 95.2335,-208.332 95.2335,-215.84\" fill=\"none\" stroke=\"black\"/>\n",
       "<polygon fill=\"black\" points=\"91.7336,-216.008 95.2335,-226.008 98.7336,-216.008 91.7336,-216.008\" stroke=\"black\"/>\n",
       "</g>\n",
       "<!-- 6612819249071195542 -->\n",
       "<g class=\"node\" id=\"node9\"><title>6612819249071195542</title>\n",
       "<polygon fill=\"none\" points=\"173.028,-722.799 63.4385,-722.799 63.4385,-686.799 173.028,-686.799 173.028,-722.799\" stroke=\"black\"/>\n",
       "<text font-family=\"Times,serif\" font-size=\"14.00\" text-anchor=\"middle\" x=\"118.233\" y=\"-700.599\">('getitem-#4', 0)</text>\n",
       "</g>\n",
       "<!-- &#45;823785568687473510 -->\n",
       "<g class=\"node\" id=\"node22\"><title>-823785568687473510</title>\n",
       "<ellipse cx=\"119.233\" cy=\"-791.292\" fill=\"none\" rx=\"32.4846\" ry=\"32.4846\" stroke=\"black\"/>\n",
       "<text font-family=\"Times,serif\" font-size=\"14.00\" text-anchor=\"middle\" x=\"119.233\" y=\"-787.092\">apply</text>\n",
       "</g>\n",
       "<!-- 6612819249071195542&#45;&gt;&#45;823785568687473510 -->\n",
       "<g class=\"edge\" id=\"edge16\"><title>6612819249071195542-&gt;-823785568687473510</title>\n",
       "<path d=\"M118.436,-722.898C118.524,-730.325 118.631,-739.383 118.738,-748.418\" fill=\"none\" stroke=\"black\"/>\n",
       "<polygon fill=\"black\" points=\"115.239,-748.564 118.857,-758.522 122.239,-748.481 115.239,-748.564\" stroke=\"black\"/>\n",
       "</g>\n",
       "<!-- 2545116673957618429 -->\n",
       "<g class=\"node\" id=\"node10\"><title>2545116673957618429</title>\n",
       "<ellipse cx=\"117.233\" cy=\"-610.798\" fill=\"none\" rx=\"40.0031\" ry=\"40.0031\" stroke=\"black\"/>\n",
       "<text font-family=\"Times,serif\" font-size=\"14.00\" text-anchor=\"middle\" x=\"117.233\" y=\"-606.598\">getitem</text>\n",
       "</g>\n",
       "<!-- 2545116673957618429&#45;&gt;6612819249071195542 -->\n",
       "<g class=\"edge\" id=\"edge5\"><title>2545116673957618429-&gt;6612819249071195542</title>\n",
       "<path d=\"M117.658,-650.815C117.752,-659.532 117.851,-668.592 117.939,-676.703\" fill=\"none\" stroke=\"black\"/>\n",
       "<polygon fill=\"black\" points=\"114.439,-676.749 118.048,-686.71 121.439,-676.673 114.439,-676.749\" stroke=\"black\"/>\n",
       "</g>\n",
       "<!-- 3352548867562264109 -->\n",
       "<g class=\"node\" id=\"node11\"><title>3352548867562264109</title>\n",
       "<polygon fill=\"none\" points=\"185.444,-534.796 43.0234,-534.796 43.0234,-498.796 185.444,-498.796 185.444,-534.796\" stroke=\"black\"/>\n",
       "<text font-family=\"Times,serif\" font-size=\"14.00\" text-anchor=\"middle\" x=\"114.233\" y=\"-512.596\">('from-delayed-#1', 0)</text>\n",
       "</g>\n",
       "<!-- 3352548867562264109&#45;&gt;2545116673957618429 -->\n",
       "<g class=\"edge\" id=\"edge6\"><title>3352548867562264109-&gt;2545116673957618429</title>\n",
       "<path d=\"M114.798,-535.101C115.035,-542.362 115.323,-551.212 115.618,-560.245\" fill=\"none\" stroke=\"black\"/>\n",
       "<polygon fill=\"black\" points=\"112.126,-560.567 115.95,-570.447 119.122,-560.338 112.126,-560.567\" stroke=\"black\"/>\n",
       "</g>\n",
       "<!-- 7445904989781870744 -->\n",
       "<g class=\"node\" id=\"node12\"><title>7445904989781870744</title>\n",
       "<polygon fill=\"none\" points=\"552.693,-462.796 431.774,-462.796 431.774,-426.796 552.693,-426.796 552.693,-462.796\" stroke=\"black\"/>\n",
       "<text font-family=\"Times,serif\" font-size=\"14.00\" text-anchor=\"middle\" x=\"492.233\" y=\"-440.596\">bytes_read_csv-#5</text>\n",
       "</g>\n",
       "<!-- 3352548867560099059 -->\n",
       "<g class=\"node\" id=\"node21\"><title>3352548867560099059</title>\n",
       "<polygon fill=\"none\" points=\"560.444,-534.796 418.023,-534.796 418.023,-498.796 560.444,-498.796 560.444,-534.796\" stroke=\"black\"/>\n",
       "<text font-family=\"Times,serif\" font-size=\"14.00\" text-anchor=\"middle\" x=\"489.233\" y=\"-512.596\">('from-delayed-#1', 2)</text>\n",
       "</g>\n",
       "<!-- 7445904989781870744&#45;&gt;3352548867560099059 -->\n",
       "<g class=\"edge\" id=\"edge24\"><title>7445904989781870744-&gt;3352548867560099059</title>\n",
       "<path d=\"M491.492,-463.1C491.161,-470.813 490.764,-480.084 490.395,-488.684\" fill=\"none\" stroke=\"black\"/>\n",
       "<polygon fill=\"black\" points=\"486.898,-488.551 489.967,-498.692 493.892,-488.851 486.898,-488.551\" stroke=\"black\"/>\n",
       "</g>\n",
       "<!-- &#45;868480477344212613&#45;&gt;7445904989781870744 -->\n",
       "<g class=\"edge\" id=\"edge7\"><title>-868480477344212613-&gt;7445904989781870744</title>\n",
       "<path d=\"M498.725,-390.692C497.658,-399.424 496.569,-408.327 495.597,-416.285\" fill=\"none\" stroke=\"black\"/>\n",
       "<polygon fill=\"black\" points=\"492.094,-416.097 494.354,-426.448 499.042,-416.946 492.094,-416.097\" stroke=\"black\"/>\n",
       "</g>\n",
       "<!-- 7121157291410315547 -->\n",
       "<g class=\"node\" id=\"node14\"><title>7121157291410315547</title>\n",
       "<polygon fill=\"none\" points=\"366.902,-1096.11 239.565,-1096.11 239.565,-1060.11 366.902,-1060.11 366.902,-1096.11\" stroke=\"black\"/>\n",
       "<text font-family=\"Times,serif\" font-size=\"14.00\" text-anchor=\"middle\" x=\"303.233\" y=\"-1073.91\">('series-sum-#6', 0)</text>\n",
       "</g>\n",
       "<!-- &#45;2223743549512113600 -->\n",
       "<g class=\"node\" id=\"node15\"><title>-2223743549512113600</title>\n",
       "<ellipse cx=\"303.233\" cy=\"-977.948\" fill=\"none\" rx=\"46.3298\" ry=\"46.3298\" stroke=\"black\"/>\n",
       "<text font-family=\"Times,serif\" font-size=\"14.00\" text-anchor=\"middle\" x=\"303.233\" y=\"-973.748\">apply(...)</text>\n",
       "</g>\n",
       "<!-- &#45;2223743549512113600&#45;&gt;7121157291410315547 -->\n",
       "<g class=\"edge\" id=\"edge9\"><title>-2223743549512113600-&gt;7121157291410315547</title>\n",
       "<path d=\"M303.233,-1024.3C303.233,-1033 303.233,-1041.86 303.233,-1049.78\" fill=\"none\" stroke=\"black\"/>\n",
       "<polygon fill=\"black\" points=\"299.734,-1049.88 303.233,-1059.88 306.734,-1049.88 299.734,-1049.88\" stroke=\"black\"/>\n",
       "</g>\n",
       "<!-- 4259231872808551201 -->\n",
       "<g class=\"node\" id=\"node16\"><title>4259231872808551201</title>\n",
       "<polygon fill=\"none\" points=\"202.277,-895.784 36.1899,-895.784 36.1899,-859.784 202.277,-859.784 202.277,-895.784\" stroke=\"black\"/>\n",
       "<text font-family=\"Times,serif\" font-size=\"14.00\" text-anchor=\"middle\" x=\"119.233\" y=\"-873.584\">('series-sum-chunk-#6', 0)</text>\n",
       "</g>\n",
       "<!-- 4259231872808551201&#45;&gt;&#45;2223743549512113600 -->\n",
       "<g class=\"edge\" id=\"edge10\"><title>4259231872808551201-&gt;-2223743549512113600</title>\n",
       "<path d=\"M151.284,-895.883C179.612,-910.996 221.373,-933.276 253.949,-950.655\" fill=\"none\" stroke=\"black\"/>\n",
       "<polygon fill=\"black\" points=\"252.405,-953.798 262.875,-955.417 255.7,-947.622 252.405,-953.798\" stroke=\"black\"/>\n",
       "</g>\n",
       "<!-- 4259231872809633726 -->\n",
       "<g class=\"node\" id=\"node17\"><title>4259231872809633726</title>\n",
       "<polygon fill=\"none\" points=\"386.277,-895.784 220.19,-895.784 220.19,-859.784 386.277,-859.784 386.277,-895.784\" stroke=\"black\"/>\n",
       "<text font-family=\"Times,serif\" font-size=\"14.00\" text-anchor=\"middle\" x=\"303.233\" y=\"-873.584\">('series-sum-chunk-#6', 1)</text>\n",
       "</g>\n",
       "<!-- 4259231872809633726&#45;&gt;&#45;2223743549512113600 -->\n",
       "<g class=\"edge\" id=\"edge11\"><title>4259231872809633726-&gt;-2223743549512113600</title>\n",
       "<path d=\"M303.233,-895.883C303.233,-903.144 303.233,-912.059 303.233,-921.291\" fill=\"none\" stroke=\"black\"/>\n",
       "<polygon fill=\"black\" points=\"299.734,-921.369 303.233,-931.369 306.734,-921.369 299.734,-921.369\" stroke=\"black\"/>\n",
       "</g>\n",
       "<!-- 4259231872806386151 -->\n",
       "<g class=\"node\" id=\"node18\"><title>4259231872806386151</title>\n",
       "<polygon fill=\"none\" points=\"570.277,-895.784 404.19,-895.784 404.19,-859.784 570.277,-859.784 570.277,-895.784\" stroke=\"black\"/>\n",
       "<text font-family=\"Times,serif\" font-size=\"14.00\" text-anchor=\"middle\" x=\"487.233\" y=\"-873.584\">('series-sum-chunk-#6', 2)</text>\n",
       "</g>\n",
       "<!-- 4259231872806386151&#45;&gt;&#45;2223743549512113600 -->\n",
       "<g class=\"edge\" id=\"edge12\"><title>4259231872806386151-&gt;-2223743549512113600</title>\n",
       "<path d=\"M455.183,-895.883C426.855,-910.996 385.094,-933.276 352.518,-950.655\" fill=\"none\" stroke=\"black\"/>\n",
       "<polygon fill=\"black\" points=\"350.767,-947.622 343.592,-955.417 354.062,-953.798 350.767,-947.622\" stroke=\"black\"/>\n",
       "</g>\n",
       "<!-- 6612819249069030492 -->\n",
       "<g class=\"node\" id=\"node19\"><title>6612819249069030492</title>\n",
       "<polygon fill=\"none\" points=\"542.028,-722.799 432.438,-722.799 432.438,-686.799 542.028,-686.799 542.028,-722.799\" stroke=\"black\"/>\n",
       "<text font-family=\"Times,serif\" font-size=\"14.00\" text-anchor=\"middle\" x=\"487.233\" y=\"-700.599\">('getitem-#4', 2)</text>\n",
       "</g>\n",
       "<!-- 7870534183886541540 -->\n",
       "<g class=\"node\" id=\"node23\"><title>7870534183886541540</title>\n",
       "<ellipse cx=\"487.233\" cy=\"-791.292\" fill=\"none\" rx=\"32.4846\" ry=\"32.4846\" stroke=\"black\"/>\n",
       "<text font-family=\"Times,serif\" font-size=\"14.00\" text-anchor=\"middle\" x=\"487.233\" y=\"-787.092\">apply</text>\n",
       "</g>\n",
       "<!-- 6612819249069030492&#45;&gt;7870534183886541540 -->\n",
       "<g class=\"edge\" id=\"edge18\"><title>6612819249069030492-&gt;7870534183886541540</title>\n",
       "<path d=\"M487.233,-722.898C487.233,-730.325 487.233,-739.383 487.233,-748.418\" fill=\"none\" stroke=\"black\"/>\n",
       "<polygon fill=\"black\" points=\"483.734,-748.522 487.233,-758.522 490.734,-748.522 483.734,-748.522\" stroke=\"black\"/>\n",
       "</g>\n",
       "<!-- 7136399501380486295 -->\n",
       "<g class=\"node\" id=\"node20\"><title>7136399501380486295</title>\n",
       "<ellipse cx=\"488.233\" cy=\"-610.798\" fill=\"none\" rx=\"40.0031\" ry=\"40.0031\" stroke=\"black\"/>\n",
       "<text font-family=\"Times,serif\" font-size=\"14.00\" text-anchor=\"middle\" x=\"488.233\" y=\"-606.598\">getitem</text>\n",
       "</g>\n",
       "<!-- 7136399501380486295&#45;&gt;6612819249069030492 -->\n",
       "<g class=\"edge\" id=\"edge13\"><title>7136399501380486295-&gt;6612819249069030492</title>\n",
       "<path d=\"M487.809,-650.815C487.715,-659.532 487.616,-668.592 487.528,-676.703\" fill=\"none\" stroke=\"black\"/>\n",
       "<polygon fill=\"black\" points=\"484.028,-676.673 487.419,-686.71 491.028,-676.749 484.028,-676.673\" stroke=\"black\"/>\n",
       "</g>\n",
       "<!-- 3352548867560099059&#45;&gt;7136399501380486295 -->\n",
       "<g class=\"edge\" id=\"edge14\"><title>3352548867560099059-&gt;7136399501380486295</title>\n",
       "<path d=\"M489.045,-535.101C488.966,-542.362 488.87,-551.212 488.772,-560.245\" fill=\"none\" stroke=\"black\"/>\n",
       "<polygon fill=\"black\" points=\"485.27,-560.41 488.661,-570.447 492.27,-560.486 485.27,-560.41\" stroke=\"black\"/>\n",
       "</g>\n",
       "<!-- &#45;823785568687473510&#45;&gt;4259231872808551201 -->\n",
       "<g class=\"edge\" id=\"edge15\"><title>-823785568687473510-&gt;4259231872808551201</title>\n",
       "<path d=\"M119.233,-824.234C119.233,-832.459 119.233,-841.239 119.233,-849.22\" fill=\"none\" stroke=\"black\"/>\n",
       "<polygon fill=\"black\" points=\"115.734,-849.482 119.233,-859.482 122.734,-849.482 115.734,-849.482\" stroke=\"black\"/>\n",
       "</g>\n",
       "<!-- 7870534183886541540&#45;&gt;4259231872806386151 -->\n",
       "<g class=\"edge\" id=\"edge17\"><title>7870534183886541540-&gt;4259231872806386151</title>\n",
       "<path d=\"M487.233,-824.234C487.233,-832.459 487.233,-841.239 487.233,-849.22\" fill=\"none\" stroke=\"black\"/>\n",
       "<polygon fill=\"black\" points=\"483.734,-849.482 487.233,-859.482 490.734,-849.482 483.734,-849.482\" stroke=\"black\"/>\n",
       "</g>\n",
       "<!-- &#45;1552934913763745112 -->\n",
       "<g class=\"node\" id=\"node24\"><title>-1552934913763745112</title>\n",
       "<polygon fill=\"none\" points=\"168.693,-462.796 47.7741,-462.796 47.7741,-426.796 168.693,-426.796 168.693,-462.796\" stroke=\"black\"/>\n",
       "<text font-family=\"Times,serif\" font-size=\"14.00\" text-anchor=\"middle\" x=\"108.233\" y=\"-440.596\">bytes_read_csv-#7</text>\n",
       "</g>\n",
       "<!-- &#45;1552934913763745112&#45;&gt;3352548867562264109 -->\n",
       "<g class=\"edge\" id=\"edge23\"><title>-1552934913763745112-&gt;3352548867562264109</title>\n",
       "<path d=\"M109.717,-463.1C110.378,-470.813 111.172,-480.084 111.91,-488.684\" fill=\"none\" stroke=\"black\"/>\n",
       "<polygon fill=\"black\" points=\"108.426,-489.027 112.767,-498.692 115.401,-488.429 108.426,-489.027\" stroke=\"black\"/>\n",
       "</g>\n",
       "<!-- &#45;8542127282046161397&#45;&gt;&#45;1552934913763745112 -->\n",
       "<g class=\"edge\" id=\"edge19\"><title>-8542127282046161397-&gt;-1552934913763745112</title>\n",
       "<path d=\"M101.742,-390.692C102.809,-399.424 103.898,-408.327 104.87,-416.285\" fill=\"none\" stroke=\"black\"/>\n",
       "<polygon fill=\"black\" points=\"101.425,-416.946 106.113,-426.448 108.373,-416.097 101.425,-416.946\" stroke=\"black\"/>\n",
       "</g>\n",
       "<!-- 1220975072316527120&#45;&gt;1168008811222514283 -->\n",
       "<g class=\"edge\" id=\"edge21\"><title>1220975072316527120-&gt;1168008811222514283</title>\n",
       "<path d=\"M303.233,-390.978C303.233,-399.682 303.233,-408.543 303.233,-416.458\" fill=\"none\" stroke=\"black\"/>\n",
       "<polygon fill=\"black\" points=\"299.734,-416.562 303.233,-426.562 306.734,-416.562 299.734,-416.562\" stroke=\"black\"/>\n",
       "</g>\n",
       "<!-- 6612819249070113017 -->\n",
       "<g class=\"node\" id=\"node27\"><title>6612819249070113017</title>\n",
       "<polygon fill=\"none\" points=\"358.028,-722.799 248.438,-722.799 248.438,-686.799 358.028,-686.799 358.028,-722.799\" stroke=\"black\"/>\n",
       "<text font-family=\"Times,serif\" font-size=\"14.00\" text-anchor=\"middle\" x=\"303.233\" y=\"-700.599\">('getitem-#4', 1)</text>\n",
       "</g>\n",
       "<!-- 2610950303447390565 -->\n",
       "<g class=\"node\" id=\"node29\"><title>2610950303447390565</title>\n",
       "<ellipse cx=\"303.233\" cy=\"-791.292\" fill=\"none\" rx=\"32.4846\" ry=\"32.4846\" stroke=\"black\"/>\n",
       "<text font-family=\"Times,serif\" font-size=\"14.00\" text-anchor=\"middle\" x=\"303.233\" y=\"-787.092\">apply</text>\n",
       "</g>\n",
       "<!-- 6612819249070113017&#45;&gt;2610950303447390565 -->\n",
       "<g class=\"edge\" id=\"edge28\"><title>6612819249070113017-&gt;2610950303447390565</title>\n",
       "<path d=\"M303.233,-722.898C303.233,-730.325 303.233,-739.383 303.233,-748.418\" fill=\"none\" stroke=\"black\"/>\n",
       "<polygon fill=\"black\" points=\"299.734,-748.522 303.233,-758.522 306.734,-748.522 299.734,-748.522\" stroke=\"black\"/>\n",
       "</g>\n",
       "<!-- 8106178328794853170&#45;&gt;6612819249070113017 -->\n",
       "<g class=\"edge\" id=\"edge25\"><title>8106178328794853170-&gt;6612819249070113017</title>\n",
       "<path d=\"M303.233,-650.815C303.233,-659.532 303.233,-668.592 303.233,-676.703\" fill=\"none\" stroke=\"black\"/>\n",
       "<polygon fill=\"black\" points=\"299.734,-676.71 303.233,-686.71 306.734,-676.71 299.734,-676.71\" stroke=\"black\"/>\n",
       "</g>\n",
       "<!-- 2610950303447390565&#45;&gt;4259231872809633726 -->\n",
       "<g class=\"edge\" id=\"edge27\"><title>2610950303447390565-&gt;4259231872809633726</title>\n",
       "<path d=\"M303.233,-824.234C303.233,-832.459 303.233,-841.239 303.233,-849.22\" fill=\"none\" stroke=\"black\"/>\n",
       "<polygon fill=\"black\" points=\"299.734,-849.482 303.233,-859.482 306.734,-849.482 299.734,-849.482\" stroke=\"black\"/>\n",
       "</g>\n",
       "</g>\n",
       "</svg>"
      ],
      "text/plain": [
       "<IPython.core.display.SVG object>"
      ]
     },
     "execution_count": 20,
     "metadata": {},
     "output_type": "execute_result"
    }
   ],
   "source": [
    "df.amount.sum().visualize(format='svg')"
   ]
  },
  {
   "cell_type": "markdown",
   "metadata": {},
   "source": [
    "Above we see graphs corresponding to a call to `dd.read_csv` and `df.amount.sum()` on the result.  \n",
    "\n",
    "Below we see the resulting computations as dictionaries.  You'll note that these dictionaries are a bit more complex than what we built by hand in the last section.  However if you look closely then you'll see all of the familiar elements of `pd.read_csv` and the filenames.\n",
    "\n",
    "Try changing around the expression `df.amount.sum()` and see how the dictionary and graph change.  Explore a bit with the Pandas syntax that you already know."
   ]
  },
  {
   "cell_type": "code",
   "execution_count": 21,
   "metadata": {
    "collapsed": false
   },
   "outputs": [
    {
     "data": {
      "text/plain": [
       "{'bytes_read_csv-ec104b295250426c2dd53f0c8ae038a9': (<function dask.compatibility.apply>,\n",
       "  <function dask.dataframe.csv.bytes_read_csv>,\n",
       "  ['read-file-block-a50aa5758b41c8e4ecc77f62e63a0871-0',\n",
       "   b'id,names,amount\\n',\n",
       "   (dict, []),\n",
       "   (dict,\n",
       "    [['names', dtype('O')],\n",
       "     ['id', dtype('int64')],\n",
       "     ['amount', dtype('int64')]]),\n",
       "   (list, ['id', 'names', 'amount'])],\n",
       "  (dict, [['enforce', False], ['write_header', False]])),\n",
       " 'read-file-block-e44d082fe3119b3084597070f1d4b565-0': (<function dask.bytes.local.read_block_from_file>,\n",
       "  '/home/joris/scipy/SWSC2016-pandas-dask/data/accounts.1.csv',\n",
       "  0,\n",
       "  64000000,\n",
       "  b'\\n',\n",
       "  None),\n",
       " 'read-file-block-a50aa5758b41c8e4ecc77f62e63a0871-0': (<function dask.bytes.local.read_block_from_file>,\n",
       "  '/home/joris/scipy/SWSC2016-pandas-dask/data/accounts.0.csv',\n",
       "  0,\n",
       "  64000000,\n",
       "  b'\\n',\n",
       "  None),\n",
       " ('from-delayed-a3c9c22a9ef7dabce27b35d7d3988368',\n",
       "  2): 'bytes_read_csv-121f672cb4626099a450d3d1f9eb06bd',\n",
       " 'bytes_read_csv-121f672cb4626099a450d3d1f9eb06bd': (<function dask.compatibility.apply>,\n",
       "  <function dask.dataframe.csv.bytes_read_csv>,\n",
       "  ['read-file-block-ff0d7edf91d0065744bc476c16397616-0',\n",
       "   b'id,names,amount\\n',\n",
       "   (dict, []),\n",
       "   (dict,\n",
       "    [['names', dtype('O')],\n",
       "     ['id', dtype('int64')],\n",
       "     ['amount', dtype('int64')]]),\n",
       "   (list, ['id', 'names', 'amount'])],\n",
       "  (dict, [['enforce', False], ['write_header', False]])),\n",
       " ('from-delayed-a3c9c22a9ef7dabce27b35d7d3988368',\n",
       "  1): 'bytes_read_csv-e5df9de2ed1964947762a546bf0262cb',\n",
       " 'bytes_read_csv-e5df9de2ed1964947762a546bf0262cb': (<function dask.compatibility.apply>,\n",
       "  <function dask.dataframe.csv.bytes_read_csv>,\n",
       "  ['read-file-block-e44d082fe3119b3084597070f1d4b565-0',\n",
       "   b'id,names,amount\\n',\n",
       "   (dict, []),\n",
       "   (dict,\n",
       "    [['names', dtype('O')],\n",
       "     ['id', dtype('int64')],\n",
       "     ['amount', dtype('int64')]]),\n",
       "   (list, ['id', 'names', 'amount'])],\n",
       "  (dict, [['enforce', False], ['write_header', False]])),\n",
       " ('from-delayed-a3c9c22a9ef7dabce27b35d7d3988368',\n",
       "  0): 'bytes_read_csv-ec104b295250426c2dd53f0c8ae038a9',\n",
       " 'read-file-block-ff0d7edf91d0065744bc476c16397616-0': (<function dask.bytes.local.read_block_from_file>,\n",
       "  '/home/joris/scipy/SWSC2016-pandas-dask/data/accounts.2.csv',\n",
       "  0,\n",
       "  64000000,\n",
       "  b'\\n',\n",
       "  None)}"
      ]
     },
     "execution_count": 21,
     "metadata": {},
     "output_type": "execute_result"
    }
   ],
   "source": [
    "df.dask  # .dask attribute contains underlying graph"
   ]
  },
  {
   "cell_type": "code",
   "execution_count": 22,
   "metadata": {
    "collapsed": false
   },
   "outputs": [
    {
     "data": {
      "text/plain": [
       "{'read-file-block-ff0d7edf91d0065744bc476c16397616-0': (<function dask.bytes.local.read_block_from_file>,\n",
       "  '/home/joris/scipy/SWSC2016-pandas-dask/data/accounts.2.csv',\n",
       "  0,\n",
       "  64000000,\n",
       "  b'\\n',\n",
       "  None),\n",
       " ('from-delayed-a3c9c22a9ef7dabce27b35d7d3988368',\n",
       "  1): 'bytes_read_csv-e5df9de2ed1964947762a546bf0262cb',\n",
       " 'read-file-block-e44d082fe3119b3084597070f1d4b565-0': (<function dask.bytes.local.read_block_from_file>,\n",
       "  '/home/joris/scipy/SWSC2016-pandas-dask/data/accounts.1.csv',\n",
       "  0,\n",
       "  64000000,\n",
       "  b'\\n',\n",
       "  None),\n",
       " 'read-file-block-a50aa5758b41c8e4ecc77f62e63a0871-0': (<function dask.bytes.local.read_block_from_file>,\n",
       "  '/home/joris/scipy/SWSC2016-pandas-dask/data/accounts.0.csv',\n",
       "  0,\n",
       "  64000000,\n",
       "  b'\\n',\n",
       "  None),\n",
       " ('getitem-cf58324ed8efedd6c6da458378e0fb5e',\n",
       "  0): (<function _operator.getitem>, ('from-delayed-a3c9c22a9ef7dabce27b35d7d3988368',\n",
       "   0), 'amount'),\n",
       " 'bytes_read_csv-121f672cb4626099a450d3d1f9eb06bd': (<function dask.compatibility.apply>,\n",
       "  <function dask.dataframe.csv.bytes_read_csv>,\n",
       "  ['read-file-block-ff0d7edf91d0065744bc476c16397616-0',\n",
       "   b'id,names,amount\\n',\n",
       "   (dict, []),\n",
       "   (dict,\n",
       "    [['names', dtype('O')],\n",
       "     ['id', dtype('int64')],\n",
       "     ['amount', dtype('int64')]]),\n",
       "   (list, ['id', 'names', 'amount'])],\n",
       "  (dict, [['enforce', False], ['write_header', False]])),\n",
       " ('series-sum-c101df718027a127089a03e9f80d70ed',\n",
       "  0): (<function dask.compatibility.apply>, <function dask.dataframe.core._reduction_aggregate>, [(<function dask.dataframe.core._concat>,\n",
       "    (list,\n",
       "     [('series-sum-chunk-c101df718027a127089a03e9f80d70ed', 0),\n",
       "      ('series-sum-chunk-c101df718027a127089a03e9f80d70ed', 1),\n",
       "      ('series-sum-chunk-c101df718027a127089a03e9f80d70ed',\n",
       "       2)]))], {'aca_aggregate': <dask.utils.methodcaller at 0x7efef26a7768>,\n",
       "   'axis': 0,\n",
       "   'skipna': True}),\n",
       " ('getitem-cf58324ed8efedd6c6da458378e0fb5e',\n",
       "  2): (<function _operator.getitem>, ('from-delayed-a3c9c22a9ef7dabce27b35d7d3988368',\n",
       "   2), 'amount'),\n",
       " ('series-sum-chunk-c101df718027a127089a03e9f80d70ed',\n",
       "  0): (<function dask.compatibility.apply>, <function dask.dataframe.core._reduction_chunk>, [('getitem-cf58324ed8efedd6c6da458378e0fb5e',\n",
       "    0)], {'aca_chunk': <dask.utils.methodcaller at 0x7efef26a7768>,\n",
       "   'axis': 0,\n",
       "   'skipna': True}),\n",
       " ('series-sum-chunk-c101df718027a127089a03e9f80d70ed',\n",
       "  2): (<function dask.compatibility.apply>, <function dask.dataframe.core._reduction_chunk>, [('getitem-cf58324ed8efedd6c6da458378e0fb5e',\n",
       "    2)], {'aca_chunk': <dask.utils.methodcaller at 0x7efef26a7768>,\n",
       "   'axis': 0,\n",
       "   'skipna': True}),\n",
       " 'bytes_read_csv-ec104b295250426c2dd53f0c8ae038a9': (<function dask.compatibility.apply>,\n",
       "  <function dask.dataframe.csv.bytes_read_csv>,\n",
       "  ['read-file-block-a50aa5758b41c8e4ecc77f62e63a0871-0',\n",
       "   b'id,names,amount\\n',\n",
       "   (dict, []),\n",
       "   (dict,\n",
       "    [['names', dtype('O')],\n",
       "     ['id', dtype('int64')],\n",
       "     ['amount', dtype('int64')]]),\n",
       "   (list, ['id', 'names', 'amount'])],\n",
       "  (dict, [['enforce', False], ['write_header', False]])),\n",
       " 'bytes_read_csv-e5df9de2ed1964947762a546bf0262cb': (<function dask.compatibility.apply>,\n",
       "  <function dask.dataframe.csv.bytes_read_csv>,\n",
       "  ['read-file-block-e44d082fe3119b3084597070f1d4b565-0',\n",
       "   b'id,names,amount\\n',\n",
       "   (dict, []),\n",
       "   (dict,\n",
       "    [['names', dtype('O')],\n",
       "     ['id', dtype('int64')],\n",
       "     ['amount', dtype('int64')]]),\n",
       "   (list, ['id', 'names', 'amount'])],\n",
       "  (dict, [['enforce', False], ['write_header', False]])),\n",
       " ('from-delayed-a3c9c22a9ef7dabce27b35d7d3988368',\n",
       "  0): 'bytes_read_csv-ec104b295250426c2dd53f0c8ae038a9',\n",
       " ('from-delayed-a3c9c22a9ef7dabce27b35d7d3988368',\n",
       "  2): 'bytes_read_csv-121f672cb4626099a450d3d1f9eb06bd',\n",
       " ('getitem-cf58324ed8efedd6c6da458378e0fb5e',\n",
       "  1): (<function _operator.getitem>, ('from-delayed-a3c9c22a9ef7dabce27b35d7d3988368',\n",
       "   1), 'amount'),\n",
       " ('series-sum-chunk-c101df718027a127089a03e9f80d70ed',\n",
       "  1): (<function dask.compatibility.apply>, <function dask.dataframe.core._reduction_chunk>, [('getitem-cf58324ed8efedd6c6da458378e0fb5e',\n",
       "    1)], {'aca_chunk': <dask.utils.methodcaller at 0x7efef26a7768>,\n",
       "   'axis': 0,\n",
       "   'skipna': True})}"
      ]
     },
     "execution_count": 22,
     "metadata": {},
     "output_type": "execute_result"
    }
   ],
   "source": [
    "df.amount.sum().dask"
   ]
  },
  {
   "cell_type": "markdown",
   "metadata": {},
   "source": [
    "## Building understanding by visualizing: `dask.diagnostics`"
   ]
  },
  {
   "cell_type": "markdown",
   "metadata": {},
   "source": [
    "Dask provides several tools to aid in profiling and inspecting dask graph execution. See the documentation for an overview (http://dask.pydata.org/en/latest/diagnostics.html)."
   ]
  },
  {
   "cell_type": "code",
   "execution_count": 44,
   "metadata": {
    "collapsed": false
   },
   "outputs": [],
   "source": [
    "df = dd.read_csv(\"data/accounts.*.csv\")"
   ]
  },
  {
   "cell_type": "code",
   "execution_count": 45,
   "metadata": {
    "collapsed": false
   },
   "outputs": [
    {
     "data": {
      "text/plain": [
       "dd.DataFrame<from-de..., npartitions=9>"
      ]
     },
     "execution_count": 45,
     "metadata": {},
     "output_type": "execute_result"
    }
   ],
   "source": [
    "df"
   ]
  },
  {
   "cell_type": "markdown",
   "metadata": {},
   "source": [
    "Let's look at the parallel computation of a grouped count operation:"
   ]
  },
  {
   "cell_type": "code",
   "execution_count": 46,
   "metadata": {
    "collapsed": true
   },
   "outputs": [],
   "source": [
    "result = df.groupby('names')['amount'].count()"
   ]
  },
  {
   "cell_type": "code",
   "execution_count": null,
   "metadata": {
    "collapsed": true
   },
   "outputs": [],
   "source": [
    "result.visualize()"
   ]
  },
  {
   "cell_type": "markdown",
   "metadata": {},
   "source": [
    "Besides the static task graph, we can also visualize the actual computations using dask's Profiler:"
   ]
  },
  {
   "cell_type": "code",
   "execution_count": 23,
   "metadata": {
    "collapsed": false
   },
   "outputs": [
    {
     "data": {
      "text/html": [
       "\n",
       "    <div class=\"bk-root\">\n",
       "        <a href=\"http://bokeh.pydata.org\" target=\"_blank\" class=\"bk-logo bk-logo-small bk-logo-notebook\"></a>\n",
       "        <span id=\"4af0b525-bf4c-4f3a-9cd7-5d2e81715f20\">Loading BokehJS ...</span>\n",
       "    </div>"
      ]
     },
     "metadata": {},
     "output_type": "display_data"
    },
    {
     "data": {
      "application/javascript": [
       "\n",
       "(function(global) {\n",
       "  function now() {\n",
       "    return new Date();\n",
       "  }\n",
       "\n",
       "  var force = \"1\";\n",
       "\n",
       "  if (typeof (window._bokeh_onload_callbacks) === \"undefined\" || force !== \"\") {\n",
       "    window._bokeh_onload_callbacks = [];\n",
       "    window._bokeh_is_loading = undefined;\n",
       "  }\n",
       "\n",
       "\n",
       "  \n",
       "  if (typeof (window._bokeh_timeout) === \"undefined\" || force !== \"\") {\n",
       "    window._bokeh_timeout = Date.now() + 5000;\n",
       "    window._bokeh_failed_load = false;\n",
       "  }\n",
       "\n",
       "  var NB_LOAD_WARNING = {'data': {'text/html':\n",
       "     \"<div style='background-color: #fdd'>\\n\"+\n",
       "     \"<p>\\n\"+\n",
       "     \"BokehJS does not appear to have successfully loaded. If loading BokehJS from CDN, this \\n\"+\n",
       "     \"may be due to a slow or bad network connection. Possible fixes:\\n\"+\n",
       "     \"</p>\\n\"+\n",
       "     \"<ul>\\n\"+\n",
       "     \"<li>re-rerun `output_notebook()` to attempt to load from CDN again, or</li>\\n\"+\n",
       "     \"<li>use INLINE resources instead, as so:</li>\\n\"+\n",
       "     \"</ul>\\n\"+\n",
       "     \"<code>\\n\"+\n",
       "     \"from bokeh.resources import INLINE\\n\"+\n",
       "     \"output_notebook(resources=INLINE)\\n\"+\n",
       "     \"</code>\\n\"+\n",
       "     \"</div>\"}};\n",
       "\n",
       "  function display_loaded() {\n",
       "    if (window.Bokeh !== undefined) {\n",
       "      Bokeh.$(\"#4af0b525-bf4c-4f3a-9cd7-5d2e81715f20\").text(\"BokehJS successfully loaded.\");\n",
       "    } else if (Date.now() < window._bokeh_timeout) {\n",
       "      setTimeout(display_loaded, 100)\n",
       "    }\n",
       "  }\n",
       "\n",
       "  function run_callbacks() {\n",
       "    window._bokeh_onload_callbacks.forEach(function(callback) { callback() });\n",
       "    delete window._bokeh_onload_callbacks\n",
       "    console.info(\"Bokeh: all callbacks have finished\");\n",
       "  }\n",
       "\n",
       "  function load_libs(js_urls, callback) {\n",
       "    window._bokeh_onload_callbacks.push(callback);\n",
       "    if (window._bokeh_is_loading > 0) {\n",
       "      console.log(\"Bokeh: BokehJS is being loaded, scheduling callback at\", now());\n",
       "      return null;\n",
       "    }\n",
       "    if (js_urls == null || js_urls.length === 0) {\n",
       "      run_callbacks();\n",
       "      return null;\n",
       "    }\n",
       "    console.log(\"Bokeh: BokehJS not loaded, scheduling load and callback at\", now());\n",
       "    window._bokeh_is_loading = js_urls.length;\n",
       "    for (var i = 0; i < js_urls.length; i++) {\n",
       "      var url = js_urls[i];\n",
       "      var s = document.createElement('script');\n",
       "      s.src = url;\n",
       "      s.async = false;\n",
       "      s.onreadystatechange = s.onload = function() {\n",
       "        window._bokeh_is_loading--;\n",
       "        if (window._bokeh_is_loading === 0) {\n",
       "          console.log(\"Bokeh: all BokehJS libraries loaded\");\n",
       "          run_callbacks()\n",
       "        }\n",
       "      };\n",
       "      s.onerror = function() {\n",
       "        console.warn(\"failed to load library \" + url);\n",
       "      };\n",
       "      console.log(\"Bokeh: injecting script tag for BokehJS library: \", url);\n",
       "      document.getElementsByTagName(\"head\")[0].appendChild(s);\n",
       "    }\n",
       "  };var element = document.getElementById(\"4af0b525-bf4c-4f3a-9cd7-5d2e81715f20\");\n",
       "  if (element == null) {\n",
       "    console.log(\"Bokeh: ERROR: autoload.js configured with elementid '4af0b525-bf4c-4f3a-9cd7-5d2e81715f20' but no matching script tag was found. \")\n",
       "    return false;\n",
       "  }\n",
       "\n",
       "  var js_urls = ['https://cdn.pydata.org/bokeh/release/bokeh-0.12.3.min.js', 'https://cdn.pydata.org/bokeh/release/bokeh-widgets-0.12.3.min.js'];\n",
       "\n",
       "  var inline_js = [\n",
       "    function(Bokeh) {\n",
       "      Bokeh.set_log_level(\"info\");\n",
       "    },\n",
       "    \n",
       "    function(Bokeh) {\n",
       "      \n",
       "      Bokeh.$(\"#4af0b525-bf4c-4f3a-9cd7-5d2e81715f20\").text(\"BokehJS is loading...\");\n",
       "    },\n",
       "    function(Bokeh) {\n",
       "      console.log(\"Bokeh: injecting CSS: https://cdn.pydata.org/bokeh/release/bokeh-0.12.3.min.css\");\n",
       "      Bokeh.embed.inject_css(\"https://cdn.pydata.org/bokeh/release/bokeh-0.12.3.min.css\");\n",
       "      console.log(\"Bokeh: injecting CSS: https://cdn.pydata.org/bokeh/release/bokeh-widgets-0.12.3.min.css\");\n",
       "      Bokeh.embed.inject_css(\"https://cdn.pydata.org/bokeh/release/bokeh-widgets-0.12.3.min.css\");\n",
       "    }\n",
       "  ];\n",
       "\n",
       "  function run_inline_js() {\n",
       "    \n",
       "    if ((window.Bokeh !== undefined) || (force === \"1\")) {\n",
       "      for (var i = 0; i < inline_js.length; i++) {\n",
       "        inline_js[i](window.Bokeh);\n",
       "      }if (force === \"1\") {\n",
       "        display_loaded();\n",
       "      }} else if (Date.now() < window._bokeh_timeout) {\n",
       "      setTimeout(run_inline_js, 100);\n",
       "    } else if (!window._bokeh_failed_load) {\n",
       "      console.log(\"Bokeh: BokehJS failed to load within specified timeout.\");\n",
       "      window._bokeh_failed_load = true;\n",
       "    } else if (!force) {\n",
       "      var cell = $(\"#4af0b525-bf4c-4f3a-9cd7-5d2e81715f20\").parents('.cell').data().cell;\n",
       "      cell.output_area.append_execute_result(NB_LOAD_WARNING)\n",
       "    }\n",
       "\n",
       "  }\n",
       "\n",
       "  if (window._bokeh_is_loading === 0) {\n",
       "    console.log(\"Bokeh: BokehJS loaded, going straight to plotting\");\n",
       "    run_inline_js();\n",
       "  } else {\n",
       "    load_libs(js_urls, function() {\n",
       "      console.log(\"Bokeh: BokehJS plotting callback run at\", now());\n",
       "      run_inline_js();\n",
       "    });\n",
       "  }\n",
       "}(this));"
      ]
     },
     "metadata": {},
     "output_type": "display_data"
    }
   ],
   "source": [
    "from bokeh.io import output_notebook\n",
    "output_notebook()"
   ]
  },
  {
   "cell_type": "code",
   "execution_count": 28,
   "metadata": {
    "collapsed": true
   },
   "outputs": [],
   "source": [
    "from dask.diagnostics import Profiler, ResourceProfiler, visualize"
   ]
  },
  {
   "cell_type": "code",
   "execution_count": 49,
   "metadata": {
    "collapsed": true
   },
   "outputs": [],
   "source": [
    "with Profiler() as prof, ResourceProfiler(dt=0.25) as rprof:\n",
    "    result.compute()"
   ]
  },
  {
   "cell_type": "code",
   "execution_count": 50,
   "metadata": {
    "collapsed": false
   },
   "outputs": [
    {
     "data": {
      "text/html": [
       "\n",
       "\n",
       "    <div class=\"bk-root\">\n",
       "        <div class=\"plotdiv\" id=\"a46ac438-0481-4ab6-ac10-7cc3e63cc15f\"></div>\n",
       "    </div>\n",
       "<script type=\"text/javascript\">\n",
       "  \n",
       "  (function(global) {\n",
       "    function now() {\n",
       "      return new Date();\n",
       "    }\n",
       "  \n",
       "    var force = \"\";\n",
       "  \n",
       "    if (typeof (window._bokeh_onload_callbacks) === \"undefined\" || force !== \"\") {\n",
       "      window._bokeh_onload_callbacks = [];\n",
       "      window._bokeh_is_loading = undefined;\n",
       "    }\n",
       "  \n",
       "  \n",
       "    \n",
       "    if (typeof (window._bokeh_timeout) === \"undefined\" || force !== \"\") {\n",
       "      window._bokeh_timeout = Date.now() + 0;\n",
       "      window._bokeh_failed_load = false;\n",
       "    }\n",
       "  \n",
       "    var NB_LOAD_WARNING = {'data': {'text/html':\n",
       "       \"<div style='background-color: #fdd'>\\n\"+\n",
       "       \"<p>\\n\"+\n",
       "       \"BokehJS does not appear to have successfully loaded. If loading BokehJS from CDN, this \\n\"+\n",
       "       \"may be due to a slow or bad network connection. Possible fixes:\\n\"+\n",
       "       \"</p>\\n\"+\n",
       "       \"<ul>\\n\"+\n",
       "       \"<li>re-rerun `output_notebook()` to attempt to load from CDN again, or</li>\\n\"+\n",
       "       \"<li>use INLINE resources instead, as so:</li>\\n\"+\n",
       "       \"</ul>\\n\"+\n",
       "       \"<code>\\n\"+\n",
       "       \"from bokeh.resources import INLINE\\n\"+\n",
       "       \"output_notebook(resources=INLINE)\\n\"+\n",
       "       \"</code>\\n\"+\n",
       "       \"</div>\"}};\n",
       "  \n",
       "    function display_loaded() {\n",
       "      if (window.Bokeh !== undefined) {\n",
       "        Bokeh.$(\"#a46ac438-0481-4ab6-ac10-7cc3e63cc15f\").text(\"BokehJS successfully loaded.\");\n",
       "      } else if (Date.now() < window._bokeh_timeout) {\n",
       "        setTimeout(display_loaded, 100)\n",
       "      }\n",
       "    }\n",
       "  \n",
       "    function run_callbacks() {\n",
       "      window._bokeh_onload_callbacks.forEach(function(callback) { callback() });\n",
       "      delete window._bokeh_onload_callbacks\n",
       "      console.info(\"Bokeh: all callbacks have finished\");\n",
       "    }\n",
       "  \n",
       "    function load_libs(js_urls, callback) {\n",
       "      window._bokeh_onload_callbacks.push(callback);\n",
       "      if (window._bokeh_is_loading > 0) {\n",
       "        console.log(\"Bokeh: BokehJS is being loaded, scheduling callback at\", now());\n",
       "        return null;\n",
       "      }\n",
       "      if (js_urls == null || js_urls.length === 0) {\n",
       "        run_callbacks();\n",
       "        return null;\n",
       "      }\n",
       "      console.log(\"Bokeh: BokehJS not loaded, scheduling load and callback at\", now());\n",
       "      window._bokeh_is_loading = js_urls.length;\n",
       "      for (var i = 0; i < js_urls.length; i++) {\n",
       "        var url = js_urls[i];\n",
       "        var s = document.createElement('script');\n",
       "        s.src = url;\n",
       "        s.async = false;\n",
       "        s.onreadystatechange = s.onload = function() {\n",
       "          window._bokeh_is_loading--;\n",
       "          if (window._bokeh_is_loading === 0) {\n",
       "            console.log(\"Bokeh: all BokehJS libraries loaded\");\n",
       "            run_callbacks()\n",
       "          }\n",
       "        };\n",
       "        s.onerror = function() {\n",
       "          console.warn(\"failed to load library \" + url);\n",
       "        };\n",
       "        console.log(\"Bokeh: injecting script tag for BokehJS library: \", url);\n",
       "        document.getElementsByTagName(\"head\")[0].appendChild(s);\n",
       "      }\n",
       "    };var element = document.getElementById(\"a46ac438-0481-4ab6-ac10-7cc3e63cc15f\");\n",
       "    if (element == null) {\n",
       "      console.log(\"Bokeh: ERROR: autoload.js configured with elementid 'a46ac438-0481-4ab6-ac10-7cc3e63cc15f' but no matching script tag was found. \")\n",
       "      return false;\n",
       "    }\n",
       "  \n",
       "    var js_urls = [];\n",
       "  \n",
       "    var inline_js = [\n",
       "      function(Bokeh) {\n",
       "        Bokeh.$(function() {\n",
       "            var docs_json = {\"8fc148be-c35a-4400-bcec-d216913756f4\":{\"roots\":{\"references\":[{\"attributes\":{},\"id\":\"73c7175d-a7d3-43ad-bcf4-d0107425a7cc\",\"type\":\"CategoricalTickFormatter\"},{\"attributes\":{\"axis_label\":\"Cache Size (count)\",\"formatter\":{\"id\":\"b025325d-a591-4b6e-9aa8-907257f0591a\",\"type\":\"BasicTickFormatter\"},\"plot\":{\"id\":\"c0cd4d03-d6a6-4295-a19d-8aede09be735\",\"subtype\":\"Figure\",\"type\":\"Plot\"},\"ticker\":{\"id\":\"cdaef2e0-83d0-4b03-bf55-1467470640a3\",\"type\":\"BasicTicker\"}},\"id\":\"508c9e66-1234-49e3-b983-7e4ffd6bc4a6\",\"type\":\"LinearAxis\"},{\"attributes\":{\"sizing_mode\":\"scale_width\",\"toolbar_location\":\"above\",\"tools\":[{\"id\":\"0ad7591d-d675-48f6-841d-1578a3048df2\",\"type\":\"HoverTool\"},{\"id\":\"de981a7f-2e89-49fc-9ef6-0942346200ff\",\"type\":\"SaveTool\"},{\"id\":\"703c914f-f241-442e-986c-c869a0e271ed\",\"type\":\"ResetTool\"},{\"id\":\"4085885b-6b45-4f9b-b343-5d8b14acd083\",\"type\":\"ResizeTool\"},{\"id\":\"e6e1fdc6-2302-4594-a9f2-87f65ca334b9\",\"type\":\"WheelZoomTool\"},{\"id\":\"fba690b2-30ca-4932-9a77-e1ca80bba3b1\",\"type\":\"PanTool\"},{\"id\":\"ad57395d-c098-41e9-af65-44ff3eb7190a\",\"type\":\"SaveTool\"},{\"id\":\"c2a01e94-dd28-4c5b-a28c-53575a495c9e\",\"type\":\"ResetTool\"},{\"id\":\"ee15423f-a339-4a09-a76c-9a46b5fc3785\",\"type\":\"ResizeTool\"},{\"id\":\"3a748c70-c001-430f-bb17-1e89af2d0492\",\"type\":\"WheelZoomTool\"},{\"id\":\"f120401b-7c3a-4b6c-a24c-828b33a264a3\",\"type\":\"PanTool\"},{\"id\":\"049a2e65-ed56-470f-9631-7497b317ee7f\",\"type\":\"HoverTool\"},{\"id\":\"1f00dbf1-f574-4780-b24f-7639ffe9d71e\",\"type\":\"SaveTool\"},{\"id\":\"9367f689-d0f2-432d-8af9-33edce35e794\",\"type\":\"ResetTool\"},{\"id\":\"7f2cf199-1a48-43d4-86c2-e8bf3923ece6\",\"type\":\"ResizeTool\"},{\"id\":\"c6ca84b1-2086-4d2e-b615-40b892678b59\",\"type\":\"WheelZoomTool\"},{\"id\":\"7065f055-69a9-492c-b67e-9faab226ba5e\",\"type\":\"PanTool\"}]},\"id\":\"55467f09-2a9d-49a8-96a9-990925835d3f\",\"type\":\"ToolbarBox\"},{\"attributes\":{\"callback\":null,\"column_names\":[\"y\",\"x\",\"label\"],\"data\":{\"label\":[\"bytes_read_csv(_, *, dict(...), dict(...), list(...), enforce=*, write_header=*)\",\"bytes_read_csv(_, *, dict(...), dict(...), list(...), enforce=*, write_header=*)\",\"bytes_read_csv(_, *, dict(...), dict(...), list(...), enforce=*, write_header=*)\",\"bytes_read_csv(_, *, dict(...), dict(...), list(...), enforce=*, write_header=*)\",\"bytes_read_csv(_, *, dict(...), dict(...), list(...), enforce=*, write_header=*)\",\"bytes_read_csv(_, *, dict(...), dict(...), list(...), enforce=*, write_header=*)\",\"bytes_read_csv(_, *, dict(...), dict(...), list(...), enforce=*, write_header=*)\",\"bytes_read_csv(_, *, dict(...), dict(...), list(...), enforce=*, write_header=*)\",\"bytes_read_csv(_, *, dict(...), dict(...), list(...), enforce=*, write_header=*)\",\"bytes_read_csv(_, *, dict(...), dict(...), list(...), enforce=*, write_header=*)\",\"bytes_read_csv(_, *, dict(...), dict(...), list(...), enforce=*, write_header=*)\",\"bytes_read_csv(_, *, dict(...), dict(...), list(...), enforce=*, write_header=*)\",\"bytes_read_csv(_, *, dict(...), dict(...), list(...), enforce=*, write_header=*)\",\"bytes_read_csv(_, *, dict(...), dict(...), list(...), enforce=*, write_header=*)\",\"bytes_read_csv(_, *, dict(...), dict(...), list(...), enforce=*, write_header=*)\",\"bytes_read_csv(_, *, dict(...), dict(...), list(...), enforce=*, write_header=*)\",\"bytes_read_csv(_, *, dict(...), dict(...), list(...), enforce=*, write_header=*)\",\"bytes_read_csv(_, *, dict(...), dict(...), list(...), enforce=*, write_header=*)\",\"bytes_read_csv(_, *, dict(...), dict(...), list(...), enforce=*, write_header=*)\",\"bytes_read_csv(_, *, dict(...), dict(...), list(...), enforce=*, write_header=*)\",\"bytes_read_csv(_, *, dict(...), dict(...), list(...), enforce=*, write_header=*)\",\"bytes_read_csv(_, *, dict(...), dict(...), list(...), enforce=*, write_header=*)\",\"bytes_read_csv(_, *, dict(...), dict(...), list(...), enforce=*, write_header=*)\",\"bytes_read_csv(_, *, dict(...), dict(...), list(...), enforce=*, write_header=*)\",\"bytes_read_csv(_, *, dict(...), dict(...), list(...), enforce=*, write_header=*)\",\"bytes_read_csv(_, *, dict(...), dict(...), list(...), enforce=*, write_header=*)\",\"bytes_read_csv(_, *, dict(...), dict(...), list(...), enforce=*, write_header=*)\",\"bytes_read_csv(_, *, dict(...), dict(...), list(...), enforce=*, write_header=*)\",\"bytes_read_csv(_, *, dict(...), dict(...), list(...), enforce=*, write_header=*)\",\"bytes_read_csv(_, *, dict(...), dict(...), list(...), enforce=*, write_header=*)\",\"bytes_read_csv(_, *, dict(...), dict(...), list(...), enforce=*, write_header=*)\",\"bytes_read_csv(_, *, dict(...), dict(...), list(...), enforce=*, write_header=*)\",\"bytes_read_csv(_, *, dict(...), dict(...), list(...), enforce=*, write_header=*)\",\"bytes_read_csv(_, *, dict(...), dict(...), list(...), enforce=*, write_header=*)\",\"bytes_read_csv(_, *, dict(...), dict(...), list(...), enforce=*, write_header=*)\",\"bytes_read_csv(_, *, dict(...), dict(...), list(...), enforce=*, write_header=*)\",\"bytes_read_csv(_, *, dict(...), dict(...), list(...), enforce=*, write_header=*)\",\"bytes_read_csv(_, *, dict(...), dict(...), list(...), enforce=*, write_header=*)\",\"bytes_read_csv(_, *, dict(...), dict(...), list(...), enforce=*, write_header=*)\"],\"x\":[0.0,0.03443044500090764,0.054024965000280645,0.07254872500197962,0.10964553600206273,0.7503186339999957,0.7547380260002683,0.851948325002013,0.8934350900017307,2.997646143001475,3.041976521999459,3.0420709230020293,3.3020455340010813,3.302215294999769,3.5553817239997443,3.8954496920014208,3.8955553180021525,3.9243662180015235,3.962917319000553,4.022734050999134,4.037687875999836,4.1165288600022905,4.117187924999598,4.460080623000977,4.482062284001586,4.79689867200068,4.797337505999167,4.872112630000629,5.102330968999013,5.1057518550005625,5.233018204999098,6.154607749998831,6.155143871001201,6.449026574002346,6.449430024000321,6.720911601001717,6.7597797509988595,6.763564070999564,6.763658264000696],\"y\":[0,0,0,0,0,0,0,0,0,0,0,1,2,1,0,0,0,0,0,0,0,0,0,0,0,0,0,0,0,0,0,0,0,1,0,0,0,0,0]}},\"id\":\"2361277c-926b-404e-9ba4-808114d65712\",\"type\":\"ColumnDataSource\"},{\"attributes\":{\"callback\":null,\"end\":286.9},\"id\":\"c6d015fa-e49b-4d42-be9a-f5c1c81619ae\",\"type\":\"Range1d\"},{\"attributes\":{\"active_drag\":\"auto\",\"active_scroll\":\"auto\",\"active_tap\":\"auto\",\"tools\":[{\"id\":\"049a2e65-ed56-470f-9631-7497b317ee7f\",\"type\":\"HoverTool\"},{\"id\":\"1f00dbf1-f574-4780-b24f-7639ffe9d71e\",\"type\":\"SaveTool\"},{\"id\":\"9367f689-d0f2-432d-8af9-33edce35e794\",\"type\":\"ResetTool\"},{\"id\":\"7f2cf199-1a48-43d4-86c2-e8bf3923ece6\",\"type\":\"ResizeTool\"},{\"id\":\"c6ca84b1-2086-4d2e-b615-40b892678b59\",\"type\":\"WheelZoomTool\"},{\"id\":\"7065f055-69a9-492c-b67e-9faab226ba5e\",\"type\":\"PanTool\"}]},\"id\":\"4d5c64a5-5287-4f91-954b-e0a19c84f7ec\",\"type\":\"Toolbar\"},{\"attributes\":{\"line_alpha\":{\"value\":0.1},\"line_color\":{\"value\":\"#1f77b4\"},\"line_width\":{\"value\":3},\"x\":{\"field\":\"x\"},\"y\":{\"field\":\"y\"}},\"id\":\"a17fae88-1b43-4554-b647-e8769ff95e64\",\"type\":\"Line\"},{\"attributes\":{\"callback\":null,\"column_names\":[\"y\",\"x\",\"label\"],\"data\":{\"label\":[\"_\",\"_\",\"_\",\"_\",\"_\",\"_\",\"_\",\"_\",\"_\",\"_\",\"_\",\"_\",\"_\",\"_\",\"_\",\"_\",\"_\",\"_\",\"_\",\"_\",\"_\",\"_\",\"_\",\"_\",\"_\",\"_\",\"_\",\"_\",\"_\",\"_\",\"_\",\"_\",\"_\",\"_\",\"_\",\"_\",\"_\",\"_\",\"_\"],\"x\":[0.0,0.03443044500090764,0.054024965000280645,0.07254872500197962,0.10964553600206273,0.7503186339999957,0.7547380260002683,0.851948325002013,0.8934350900017307,2.997646143001475,3.041976521999459,3.0420709230020293,3.3020455340010813,3.302215294999769,3.5553817239997443,3.8954496920014208,3.8955553180021525,3.9243662180015235,3.962917319000553,4.022734050999134,4.037687875999836,4.1165288600022905,4.117187924999598,4.460080623000977,4.482062284001586,4.79689867200068,4.797337505999167,4.872112630000629,5.102330968999013,5.1057518550005625,5.233018204999098,6.154607749998831,6.155143871001201,6.449026574002346,6.449430024000321,6.720911601001717,6.7597797509988595,6.763564070999564,6.763658264000696],\"y\":[0,0,0,0,0,0,1,0,0,0,1,1,1,2,3,2,1,0,0,0,0,0,1,0,0,0,1,0,0,1,0,0,1,1,2,1,0,0,0]}},\"id\":\"61afc38f-ef77-4475-afc9-e1322dc2fae1\",\"type\":\"ColumnDataSource\"},{\"attributes\":{},\"id\":\"b025325d-a591-4b6e-9aa8-907257f0591a\",\"type\":\"BasicTickFormatter\"},{\"attributes\":{},\"id\":\"0f97d58c-5e58-4f8d-9732-2f88c434b636\",\"type\":\"BasicTicker\"},{\"attributes\":{\"data_source\":{\"id\":\"b7a75e12-2165-4012-9472-79b59ac9af6c\",\"type\":\"ColumnDataSource\"},\"glyph\":{\"id\":\"87edcab3-4cd9-4dbe-9bdc-5ab1981bc136\",\"type\":\"Line\"},\"hover_glyph\":null,\"nonselection_glyph\":{\"id\":\"227176aa-5250-4f7f-b96e-13f0cd3834a8\",\"type\":\"Line\"},\"selection_glyph\":null},\"id\":\"e59d29ea-93ea-46f4-a06f-838f4816651a\",\"type\":\"GlyphRenderer\"},{\"attributes\":{},\"id\":\"22aac161-3c61-445d-a6f2-e7ea774f9405\",\"type\":\"BasicTicker\"},{\"attributes\":{\"active_drag\":\"auto\",\"active_scroll\":\"auto\",\"active_tap\":\"auto\",\"tools\":[{\"id\":\"0ad7591d-d675-48f6-841d-1578a3048df2\",\"type\":\"HoverTool\"},{\"id\":\"de981a7f-2e89-49fc-9ef6-0942346200ff\",\"type\":\"SaveTool\"},{\"id\":\"703c914f-f241-442e-986c-c869a0e271ed\",\"type\":\"ResetTool\"},{\"id\":\"4085885b-6b45-4f9b-b343-5d8b14acd083\",\"type\":\"ResizeTool\"},{\"id\":\"e6e1fdc6-2302-4594-a9f2-87f65ca334b9\",\"type\":\"WheelZoomTool\"},{\"id\":\"fba690b2-30ca-4932-9a77-e1ca80bba3b1\",\"type\":\"PanTool\"}]},\"id\":\"482f0682-3365-4229-b07d-e48124fcb879\",\"type\":\"Toolbar\"},{\"attributes\":{\"plot\":{\"id\":\"55613132-12cb-474f-85b7-aaae4e52578d\",\"subtype\":\"Figure\",\"type\":\"Plot\"}},\"id\":\"c2a01e94-dd28-4c5b-a28c-53575a495c9e\",\"type\":\"ResetTool\"},{\"attributes\":{},\"id\":\"155cd686-05ca-4378-94d9-d4a5327daf86\",\"type\":\"BasicTickFormatter\"},{\"attributes\":{\"plot\":{\"id\":\"355b0732-91d9-443c-9f73-187e0b0fa654\",\"subtype\":\"Figure\",\"type\":\"Plot\"}},\"id\":\"703c914f-f241-442e-986c-c869a0e271ed\",\"type\":\"ResetTool\"},{\"attributes\":{\"callback\":null},\"id\":\"618e0c31-8394-45c6-b695-dcac53aa2b25\",\"type\":\"DataRange1d\"},{\"attributes\":{\"children\":[{\"id\":\"55467f09-2a9d-49a8-96a9-990925835d3f\",\"type\":\"ToolbarBox\"},{\"id\":\"ca8fba24-aac0-42ec-a480-686c36933464\",\"type\":\"Column\"}]},\"id\":\"77040535-ecc0-44ba-aebe-e2f043cdded7\",\"type\":\"Column\"},{\"attributes\":{\"callback\":null,\"column_names\":[\"x\",\"y\"],\"data\":{\"x\":[0.0,0.2511756890016841,0.5021931930023129,0.7532554790013819,1.004128936001507,1.255103601000883,1.5062485410016961,1.757289856999705,2.0082153840012325,2.259414800999366,2.5102594410018355,2.7613997389998985,3.0124920170019323,3.263251543001388,3.514105379999819,3.7649532630020985,4.0160297350012115,4.266913346000365,4.517936349002412,4.768927619999886,5.019972899001004,5.2710742660019605,5.522144943999592,5.773166424001829,6.024195594000048,6.275210339001205,6.526338739000494],\"y\":[3881.971712,4126.736384,4126.736384,4110.405632,4248.825856,4255.977472,4258.164736,4280.479744,4305.584128,4330.614784,4373.1968,4545.323008,4372.082688,4380.983296,4262.62528,4342.341632,4070.309888,4000.68608,3879.19872,3911.856128,3925.66784,3877.720064,3896.102912,3914.756096,3946.397696,4070.576128,3988.549632]}},\"id\":\"158bdb69-870c-4ad2-93f7-271cc0cab294\",\"type\":\"ColumnDataSource\"},{\"attributes\":{},\"id\":\"31696f50-6c26-4a8c-966c-8a9703067fd4\",\"type\":\"BasicTicker\"},{\"attributes\":{\"fill_color\":{\"field\":\"color\"},\"height\":{\"units\":\"data\",\"value\":1},\"line_color\":{\"value\":\"gray\"},\"width\":{\"field\":\"width\",\"units\":\"data\"},\"x\":{\"field\":\"x\"},\"y\":{\"field\":\"y\"}},\"id\":\"f4a469a6-636e-47a1-8a47-09017cb4bf06\",\"type\":\"Rect\"},{\"attributes\":{\"line_color\":{\"value\":\"#253494\"},\"line_width\":{\"value\":3},\"x\":{\"field\":\"x\"},\"y\":{\"field\":\"y\"}},\"id\":\"2db06a01-9d87-44b5-b6a3-2149f96494b2\",\"type\":\"Line\"},{\"attributes\":{\"line_color\":{\"value\":\"#41b6c4\"},\"line_width\":{\"value\":4},\"x\":{\"field\":\"x\"},\"y\":{\"field\":\"y\"}},\"id\":\"0e5e7c70-25b8-4cb2-aaae-56493358f7b6\",\"type\":\"Line\"},{\"attributes\":{\"axis_label\":null,\"formatter\":{\"id\":\"0096cbc9-7849-47b1-b97a-650911d68566\",\"type\":\"BasicTickFormatter\"},\"plot\":{\"id\":\"55613132-12cb-474f-85b7-aaae4e52578d\",\"subtype\":\"Figure\",\"type\":\"Plot\"},\"ticker\":{\"id\":\"31696f50-6c26-4a8c-966c-8a9703067fd4\",\"type\":\"BasicTicker\"}},\"id\":\"a8d32776-1f85-431a-aeb2-133cf735083d\",\"type\":\"LinearAxis\"},{\"attributes\":{\"data_source\":{\"id\":\"6b14dffc-9901-499d-a9e8-a08a841a94a2\",\"type\":\"ColumnDataSource\"},\"glyph\":{\"id\":\"80a7668e-3184-46f2-ad9c-040d8faf7b6a\",\"type\":\"Line\"},\"hover_glyph\":null,\"nonselection_glyph\":{\"id\":\"35bd63eb-b46b-4f01-8cd3-5d0d3e119ace\",\"type\":\"Line\"},\"selection_glyph\":null},\"id\":\"f2c62be5-d85c-497b-912a-9846e5c3fe5c\",\"type\":\"GlyphRenderer\"},{\"attributes\":{\"grid_line_color\":{\"value\":null},\"plot\":{\"id\":\"355b0732-91d9-443c-9f73-187e0b0fa654\",\"subtype\":\"Figure\",\"type\":\"Plot\"},\"ticker\":{\"id\":\"54f4fbf6-b12d-45c7-9540-0d43455db23e\",\"type\":\"BasicTicker\"}},\"id\":\"e6f40b40-f21e-4c43-b8a6-ed36c8e7b2c2\",\"type\":\"Grid\"},{\"attributes\":{\"line_color\":{\"value\":\"#c7e9b4\"},\"line_width\":{\"value\":3},\"x\":{\"field\":\"x\"},\"y\":{\"field\":\"y\"}},\"id\":\"bc4badf9-01b3-4713-93bf-95764a49e68b\",\"type\":\"Line\"},{\"attributes\":{\"callback\":null,\"factors\":[\"0\",\"1\",\"2\",\"3\"]},\"id\":\"b5d21229-c834-4b48-8cab-7c8552ec55a6\",\"type\":\"FactorRange\"},{\"attributes\":{\"plot\":{\"id\":\"c0cd4d03-d6a6-4295-a19d-8aede09be735\",\"subtype\":\"Figure\",\"type\":\"Plot\"}},\"id\":\"7f2cf199-1a48-43d4-86c2-e8bf3923ece6\",\"type\":\"ResizeTool\"},{\"attributes\":{\"line_alpha\":{\"value\":0.1},\"line_color\":{\"value\":\"#1f77b4\"},\"line_width\":{\"value\":4},\"x\":{\"field\":\"x\"},\"y\":{\"field\":\"y\"}},\"id\":\"b2c57e52-3cfc-4cb1-b10c-aabbcea0cb4c\",\"type\":\"Line\"},{\"attributes\":{\"line_color\":{\"value\":\"#41b6c4\"},\"line_width\":{\"value\":3},\"x\":{\"field\":\"x\"},\"y\":{\"field\":\"y\"}},\"id\":\"80a7668e-3184-46f2-ad9c-040d8faf7b6a\",\"type\":\"Line\"},{\"attributes\":{\"line_color\":{\"value\":\"#7fcdbb\"},\"line_width\":{\"value\":3},\"x\":{\"field\":\"x\"},\"y\":{\"field\":\"y\"}},\"id\":\"82cd7b9d-143b-44b5-88cd-905d86b91189\",\"type\":\"Line\"},{\"attributes\":{},\"id\":\"cdaef2e0-83d0-4b03-bf55-1467470640a3\",\"type\":\"BasicTicker\"},{\"attributes\":{\"label\":{\"value\":\"% CPU\"},\"renderers\":[{\"id\":\"e885d946-a6a3-462e-b7a0-65e78ba8f022\",\"type\":\"GlyphRenderer\"}]},\"id\":\"55f99989-aea9-4b97-82b3-4ca6f99007a9\",\"type\":\"LegendItem\"},{\"attributes\":{\"callback\":null,\"plot\":{\"id\":\"c0cd4d03-d6a6-4295-a19d-8aede09be735\",\"subtype\":\"Figure\",\"type\":\"Plot\"},\"tooltips\":\"\\n    <div>\\n        <span style=\\\"font-size: 14px; font-weight: bold;\\\">Task:</span>&nbsp;\\n        <span style=\\\"font-size: 10px; font-family: Monaco, monospace;\\\">@label</span>\\n    </div>\\n    \"},\"id\":\"049a2e65-ed56-470f-9631-7497b317ee7f\",\"type\":\"HoverTool\"},{\"attributes\":{\"children\":[{\"id\":\"6c5ba267-99aa-44da-aa62-cca33b8abf5b\",\"type\":\"Row\"},{\"id\":\"92999031-b2c4-4883-8928-7a170ffddaf1\",\"type\":\"Row\"},{\"id\":\"6c6365f3-e4b7-4f9c-8f95-d3a05a8e5307\",\"type\":\"Row\"}]},\"id\":\"ca8fba24-aac0-42ec-a480-686c36933464\",\"type\":\"Column\"},{\"attributes\":{\"callback\":null,\"end\":6.759806193997065},\"id\":\"037e99e4-7673-4e60-b5ec-c77fbecbb1a5\",\"type\":\"Range1d\"},{\"attributes\":{\"below\":[{\"id\":\"331772d9-0b78-49e0-b893-f387997f6539\",\"type\":\"LinearAxis\"}],\"left\":[{\"id\":\"508c9e66-1234-49e3-b983-7e4ffd6bc4a6\",\"type\":\"LinearAxis\"}],\"min_border_left\":75,\"min_border_right\":75,\"min_border_top\":20,\"plot_height\":270,\"plot_width\":800,\"renderers\":[{\"id\":\"331772d9-0b78-49e0-b893-f387997f6539\",\"type\":\"LinearAxis\"},{\"id\":\"4bb905d4-d54d-4bc1-95af-c866dc215f4a\",\"type\":\"Grid\"},{\"id\":\"508c9e66-1234-49e3-b983-7e4ffd6bc4a6\",\"type\":\"LinearAxis\"},{\"id\":\"3c93c1ad-9537-4644-a9a7-94626fd1036f\",\"type\":\"Grid\"},{\"id\":\"88ede57c-583d-4f78-88b8-ea18696e8145\",\"type\":\"GlyphRenderer\"},{\"id\":\"cdf2e018-3751-4a04-8216-6cbdb0181e9e\",\"type\":\"GlyphRenderer\"},{\"id\":\"e59d29ea-93ea-46f4-a06f-838f4816651a\",\"type\":\"GlyphRenderer\"},{\"id\":\"fb4d9ffe-bdfa-4db8-aa87-ea1cb4a9cf77\",\"type\":\"GlyphRenderer\"},{\"id\":\"f2c62be5-d85c-497b-912a-9846e5c3fe5c\",\"type\":\"GlyphRenderer\"},{\"id\":\"57748491-d21a-4e64-b6c2-a67df2cc12fa\",\"type\":\"GlyphRenderer\"}],\"title\":null,\"tool_events\":{\"id\":\"306b4b9c-c57d-40e4-9a68-167cb8c3f393\",\"type\":\"ToolEvents\"},\"toolbar\":{\"id\":\"4d5c64a5-5287-4f91-954b-e0a19c84f7ec\",\"type\":\"Toolbar\"},\"toolbar_location\":null,\"x_range\":{\"id\":\"037e99e4-7673-4e60-b5ec-c77fbecbb1a5\",\"type\":\"Range1d\"},\"y_range\":{\"id\":\"618e0c31-8394-45c6-b695-dcac53aa2b25\",\"type\":\"DataRange1d\"}},\"id\":\"c0cd4d03-d6a6-4295-a19d-8aede09be735\",\"subtype\":\"Figure\",\"type\":\"Plot\"},{\"attributes\":{\"plot\":{\"id\":\"355b0732-91d9-443c-9f73-187e0b0fa654\",\"subtype\":\"Figure\",\"type\":\"Plot\"}},\"id\":\"de981a7f-2e89-49fc-9ef6-0942346200ff\",\"type\":\"SaveTool\"},{\"attributes\":{\"callback\":null,\"column_names\":[\"y\",\"x\",\"label\"],\"data\":{\"label\":[\"_groupby_aggregate(_concat(...), aggfunc=*, levels=*)\",\"_groupby_aggregate(_concat(...), aggfunc=*, levels=*)\",\"_groupby_aggregate(_concat(...), aggfunc=*, levels=*)\",\"_groupby_aggregate(_concat(...), aggfunc=*, levels=*)\",\"_groupby_aggregate(_concat(...), aggfunc=*, levels=*)\",\"_groupby_aggregate(_concat(...), aggfunc=*, levels=*)\",\"_groupby_aggregate(_concat(...), aggfunc=*, levels=*)\",\"_groupby_aggregate(_concat(...), aggfunc=*, levels=*)\",\"_groupby_aggregate(_concat(...), aggfunc=*, levels=*)\",\"_groupby_aggregate(_concat(...), aggfunc=*, levels=*)\",\"_groupby_aggregate(_concat(...), aggfunc=*, levels=*)\",\"_groupby_aggregate(_concat(...), aggfunc=*, levels=*)\",\"_groupby_aggregate(_concat(...), aggfunc=*, levels=*)\",\"_groupby_aggregate(_concat(...), aggfunc=*, levels=*)\",\"_groupby_aggregate(_concat(...), aggfunc=*, levels=*)\",\"_groupby_aggregate(_concat(...), aggfunc=*, levels=*)\",\"_groupby_aggregate(_concat(...), aggfunc=*, levels=*)\",\"_groupby_aggregate(_concat(...), aggfunc=*, levels=*)\",\"_groupby_aggregate(_concat(...), aggfunc=*, levels=*)\",\"_groupby_aggregate(_concat(...), aggfunc=*, levels=*)\",\"_groupby_aggregate(_concat(...), aggfunc=*, levels=*)\",\"_groupby_aggregate(_concat(...), aggfunc=*, levels=*)\",\"_groupby_aggregate(_concat(...), aggfunc=*, levels=*)\",\"_groupby_aggregate(_concat(...), aggfunc=*, levels=*)\",\"_groupby_aggregate(_concat(...), aggfunc=*, levels=*)\",\"_groupby_aggregate(_concat(...), aggfunc=*, levels=*)\",\"_groupby_aggregate(_concat(...), aggfunc=*, levels=*)\",\"_groupby_aggregate(_concat(...), aggfunc=*, levels=*)\",\"_groupby_aggregate(_concat(...), aggfunc=*, levels=*)\",\"_groupby_aggregate(_concat(...), aggfunc=*, levels=*)\",\"_groupby_aggregate(_concat(...), aggfunc=*, levels=*)\",\"_groupby_aggregate(_concat(...), aggfunc=*, levels=*)\",\"_groupby_aggregate(_concat(...), aggfunc=*, levels=*)\",\"_groupby_aggregate(_concat(...), aggfunc=*, levels=*)\",\"_groupby_aggregate(_concat(...), aggfunc=*, levels=*)\",\"_groupby_aggregate(_concat(...), aggfunc=*, levels=*)\",\"_groupby_aggregate(_concat(...), aggfunc=*, levels=*)\",\"_groupby_aggregate(_concat(...), aggfunc=*, levels=*)\",\"_groupby_aggregate(_concat(...), aggfunc=*, levels=*)\"],\"x\":[0.0,0.03443044500090764,0.054024965000280645,0.07254872500197962,0.10964553600206273,0.7503186339999957,0.7547380260002683,0.851948325002013,0.8934350900017307,2.997646143001475,3.041976521999459,3.0420709230020293,3.3020455340010813,3.302215294999769,3.5553817239997443,3.8954496920014208,3.8955553180021525,3.9243662180015235,3.962917319000553,4.022734050999134,4.037687875999836,4.1165288600022905,4.117187924999598,4.460080623000977,4.482062284001586,4.79689867200068,4.797337505999167,4.872112630000629,5.102330968999013,5.1057518550005625,5.233018204999098,6.154607749998831,6.155143871001201,6.449026574002346,6.449430024000321,6.720911601001717,6.7597797509988595,6.763564070999564,6.763658264000696],\"y\":[0,0,0,0,0,0,0,0,0,0,0,0,0,0,0,0,0,0,0,0,0,0,0,0,0,0,0,0,0,0,0,0,0,0,0,0,0,1,0]}},\"id\":\"6b14dffc-9901-499d-a9e8-a08a841a94a2\",\"type\":\"ColumnDataSource\"},{\"attributes\":{\"callback\":null,\"column_names\":[\"y\",\"x\",\"label\"],\"data\":{\"label\":[\"read_block_from_file(*, *, *, *, *)\",\"read_block_from_file(*, *, *, *, *)\",\"read_block_from_file(*, *, *, *, *)\",\"read_block_from_file(*, *, *, *, *)\",\"read_block_from_file(*, *, *, *, *)\",\"read_block_from_file(*, *, *, *, *)\",\"read_block_from_file(*, *, *, *, *)\",\"read_block_from_file(*, *, *, *, *)\",\"read_block_from_file(*, *, *, *, *)\",\"read_block_from_file(*, *, *, *, *)\",\"read_block_from_file(*, *, *, *, *)\",\"read_block_from_file(*, *, *, *, *)\",\"read_block_from_file(*, *, *, *, *)\",\"read_block_from_file(*, *, *, *, *)\",\"read_block_from_file(*, *, *, *, *)\",\"read_block_from_file(*, *, *, *, *)\",\"read_block_from_file(*, *, *, *, *)\",\"read_block_from_file(*, *, *, *, *)\",\"read_block_from_file(*, *, *, *, *)\",\"read_block_from_file(*, *, *, *, *)\",\"read_block_from_file(*, *, *, *, *)\",\"read_block_from_file(*, *, *, *, *)\",\"read_block_from_file(*, *, *, *, *)\",\"read_block_from_file(*, *, *, *, *)\",\"read_block_from_file(*, *, *, *, *)\",\"read_block_from_file(*, *, *, *, *)\",\"read_block_from_file(*, *, *, *, *)\",\"read_block_from_file(*, *, *, *, *)\",\"read_block_from_file(*, *, *, *, *)\",\"read_block_from_file(*, *, *, *, *)\",\"read_block_from_file(*, *, *, *, *)\",\"read_block_from_file(*, *, *, *, *)\",\"read_block_from_file(*, *, *, *, *)\",\"read_block_from_file(*, *, *, *, *)\",\"read_block_from_file(*, *, *, *, *)\",\"read_block_from_file(*, *, *, *, *)\",\"read_block_from_file(*, *, *, *, *)\",\"read_block_from_file(*, *, *, *, *)\",\"read_block_from_file(*, *, *, *, *)\"],\"x\":[0.0,0.03443044500090764,0.054024965000280645,0.07254872500197962,0.10964553600206273,0.7503186339999957,0.7547380260002683,0.851948325002013,0.8934350900017307,2.997646143001475,3.041976521999459,3.0420709230020293,3.3020455340010813,3.302215294999769,3.5553817239997443,3.8954496920014208,3.8955553180021525,3.9243662180015235,3.962917319000553,4.022734050999134,4.037687875999836,4.1165288600022905,4.117187924999598,4.460080623000977,4.482062284001586,4.79689867200068,4.797337505999167,4.872112630000629,5.102330968999013,5.1057518550005625,5.233018204999098,6.154607749998831,6.155143871001201,6.449026574002346,6.449430024000321,6.720911601001717,6.7597797509988595,6.763564070999564,6.763658264000696],\"y\":[0,1,2,3,4,3,3,3,4,3,3,2,1,1,1,1,1,1,2,3,4,3,3,3,4,3,3,3,2,2,2,1,1,0,0,0,0,0,0]}},\"id\":\"b7056c0e-0980-496b-ac81-b05645509b7f\",\"type\":\"ColumnDataSource\"},{\"attributes\":{\"axis_label\":\"Memory (MB)\",\"formatter\":{\"id\":\"a45da403-fcfe-4a7e-b5e4-5bf15b10dcc9\",\"type\":\"BasicTickFormatter\"},\"plot\":{\"id\":\"55613132-12cb-474f-85b7-aaae4e52578d\",\"subtype\":\"Figure\",\"type\":\"Plot\"},\"ticker\":{\"id\":\"26d85aec-2402-4c80-a619-2d9bff903127\",\"type\":\"BasicTicker\"},\"y_range_name\":\"memory\"},\"id\":\"9641e914-bef5-4df7-ba4f-64574a97fef3\",\"type\":\"LinearAxis\"},{\"attributes\":{\"items\":[{\"id\":\"55f99989-aea9-4b97-82b3-4ca6f99007a9\",\"type\":\"LegendItem\"},{\"id\":\"9ce9762d-8ea6-4acd-bf02-8a716776ea79\",\"type\":\"LegendItem\"}],\"plot\":{\"id\":\"55613132-12cb-474f-85b7-aaae4e52578d\",\"subtype\":\"Figure\",\"type\":\"Plot\"}},\"id\":\"d12349a0-8a38-40cc-aa6d-54be81b62238\",\"type\":\"Legend\"},{\"attributes\":{\"data_source\":{\"id\":\"cce61fe7-63d5-4e9f-bbbb-b820dfb411ec\",\"type\":\"ColumnDataSource\"},\"glyph\":{\"id\":\"82cd7b9d-143b-44b5-88cd-905d86b91189\",\"type\":\"Line\"},\"hover_glyph\":null,\"nonselection_glyph\":{\"id\":\"f274c2b9-afd3-48a0-80e8-5ef60de2be41\",\"type\":\"Line\"},\"selection_glyph\":null},\"id\":\"fb4d9ffe-bdfa-4db8-aa87-ea1cb4a9cf77\",\"type\":\"GlyphRenderer\"},{\"attributes\":{\"dimensions\":\"width\",\"plot\":{\"id\":\"355b0732-91d9-443c-9f73-187e0b0fa654\",\"subtype\":\"Figure\",\"type\":\"Plot\"}},\"id\":\"fba690b2-30ca-4932-9a77-e1ca80bba3b1\",\"type\":\"PanTool\"},{\"attributes\":{\"line_alpha\":{\"value\":0.1},\"line_color\":{\"value\":\"#1f77b4\"},\"line_width\":{\"value\":4},\"x\":{\"field\":\"x\"},\"y\":{\"field\":\"y\"}},\"id\":\"2efea77e-38f2-41e7-8876-fc97a14d0d08\",\"type\":\"Line\"},{\"attributes\":{},\"id\":\"0096cbc9-7849-47b1-b97a-650911d68566\",\"type\":\"BasicTickFormatter\"},{\"attributes\":{\"data_source\":{\"id\":\"e8be6fb8-e4d8-4a1f-8880-23d3b2d7ce11\",\"type\":\"ColumnDataSource\"},\"glyph\":{\"id\":\"60264d4f-7e45-4fd3-bf52-e562d189326e\",\"type\":\"Line\"},\"hover_glyph\":null,\"nonselection_glyph\":{\"id\":\"2efea77e-38f2-41e7-8876-fc97a14d0d08\",\"type\":\"Line\"},\"selection_glyph\":null},\"id\":\"e885d946-a6a3-462e-b7a0-65e78ba8f022\",\"type\":\"GlyphRenderer\"},{\"attributes\":{},\"id\":\"a45da403-fcfe-4a7e-b5e4-5bf15b10dcc9\",\"type\":\"BasicTickFormatter\"},{\"attributes\":{\"dimensions\":\"width\",\"plot\":{\"id\":\"c0cd4d03-d6a6-4295-a19d-8aede09be735\",\"subtype\":\"Figure\",\"type\":\"Plot\"}},\"id\":\"7065f055-69a9-492c-b67e-9faab226ba5e\",\"type\":\"PanTool\"},{\"attributes\":{\"axis_label\":\"% CPU\",\"formatter\":{\"id\":\"155cd686-05ca-4378-94d9-d4a5327daf86\",\"type\":\"BasicTickFormatter\"},\"plot\":{\"id\":\"55613132-12cb-474f-85b7-aaae4e52578d\",\"subtype\":\"Figure\",\"type\":\"Plot\"},\"ticker\":{\"id\":\"0f97d58c-5e58-4f8d-9732-2f88c434b636\",\"type\":\"BasicTicker\"}},\"id\":\"bfe65acf-bb4e-4a2b-89a9-9066eec3bd2c\",\"type\":\"LinearAxis\"},{\"attributes\":{\"dimensions\":\"width\",\"plot\":{\"id\":\"55613132-12cb-474f-85b7-aaae4e52578d\",\"subtype\":\"Figure\",\"type\":\"Plot\"}},\"id\":\"f120401b-7c3a-4b6c-a24c-828b33a264a3\",\"type\":\"PanTool\"},{\"attributes\":{\"callback\":null,\"column_names\":[\"y\",\"x\",\"label\"],\"data\":{\"label\":[\"bytes_read_csv(_, *, dict(...), dict(...), list(...), enforce=*)\",\"bytes_read_csv(_, *, dict(...), dict(...), list(...), enforce=*)\",\"bytes_read_csv(_, *, dict(...), dict(...), list(...), enforce=*)\",\"bytes_read_csv(_, *, dict(...), dict(...), list(...), enforce=*)\",\"bytes_read_csv(_, *, dict(...), dict(...), list(...), enforce=*)\",\"bytes_read_csv(_, *, dict(...), dict(...), list(...), enforce=*)\",\"bytes_read_csv(_, *, dict(...), dict(...), list(...), enforce=*)\",\"bytes_read_csv(_, *, dict(...), dict(...), list(...), enforce=*)\",\"bytes_read_csv(_, *, dict(...), dict(...), list(...), enforce=*)\",\"bytes_read_csv(_, *, dict(...), dict(...), list(...), enforce=*)\",\"bytes_read_csv(_, *, dict(...), dict(...), list(...), enforce=*)\",\"bytes_read_csv(_, *, dict(...), dict(...), list(...), enforce=*)\",\"bytes_read_csv(_, *, dict(...), dict(...), list(...), enforce=*)\",\"bytes_read_csv(_, *, dict(...), dict(...), list(...), enforce=*)\",\"bytes_read_csv(_, *, dict(...), dict(...), list(...), enforce=*)\",\"bytes_read_csv(_, *, dict(...), dict(...), list(...), enforce=*)\",\"bytes_read_csv(_, *, dict(...), dict(...), list(...), enforce=*)\",\"bytes_read_csv(_, *, dict(...), dict(...), list(...), enforce=*)\",\"bytes_read_csv(_, *, dict(...), dict(...), list(...), enforce=*)\",\"bytes_read_csv(_, *, dict(...), dict(...), list(...), enforce=*)\",\"bytes_read_csv(_, *, dict(...), dict(...), list(...), enforce=*)\",\"bytes_read_csv(_, *, dict(...), dict(...), list(...), enforce=*)\",\"bytes_read_csv(_, *, dict(...), dict(...), list(...), enforce=*)\",\"bytes_read_csv(_, *, dict(...), dict(...), list(...), enforce=*)\",\"bytes_read_csv(_, *, dict(...), dict(...), list(...), enforce=*)\",\"bytes_read_csv(_, *, dict(...), dict(...), list(...), enforce=*)\",\"bytes_read_csv(_, *, dict(...), dict(...), list(...), enforce=*)\",\"bytes_read_csv(_, *, dict(...), dict(...), list(...), enforce=*)\",\"bytes_read_csv(_, *, dict(...), dict(...), list(...), enforce=*)\",\"bytes_read_csv(_, *, dict(...), dict(...), list(...), enforce=*)\",\"bytes_read_csv(_, *, dict(...), dict(...), list(...), enforce=*)\",\"bytes_read_csv(_, *, dict(...), dict(...), list(...), enforce=*)\",\"bytes_read_csv(_, *, dict(...), dict(...), list(...), enforce=*)\",\"bytes_read_csv(_, *, dict(...), dict(...), list(...), enforce=*)\",\"bytes_read_csv(_, *, dict(...), dict(...), list(...), enforce=*)\",\"bytes_read_csv(_, *, dict(...), dict(...), list(...), enforce=*)\",\"bytes_read_csv(_, *, dict(...), dict(...), list(...), enforce=*)\",\"bytes_read_csv(_, *, dict(...), dict(...), list(...), enforce=*)\",\"bytes_read_csv(_, *, dict(...), dict(...), list(...), enforce=*)\"],\"x\":[0.0,0.03443044500090764,0.054024965000280645,0.07254872500197962,0.10964553600206273,0.7503186339999957,0.7547380260002683,0.851948325002013,0.8934350900017307,2.997646143001475,3.041976521999459,3.0420709230020293,3.3020455340010813,3.302215294999769,3.5553817239997443,3.8954496920014208,3.8955553180021525,3.9243662180015235,3.962917319000553,4.022734050999134,4.037687875999836,4.1165288600022905,4.117187924999598,4.460080623000977,4.482062284001586,4.79689867200068,4.797337505999167,4.872112630000629,5.102330968999013,5.1057518550005625,5.233018204999098,6.154607749998831,6.155143871001201,6.449026574002346,6.449430024000321,6.720911601001717,6.7597797509988595,6.763564070999564,6.763658264000696],\"y\":[0,0,0,0,0,1,0,0,0,1,0,0,0,0,0,0,0,0,0,0,0,1,0,0,0,1,0,0,1,0,0,1,0,0,0,0,0,0,0]}},\"id\":\"cce61fe7-63d5-4e9f-bbbb-b820dfb411ec\",\"type\":\"ColumnDataSource\"},{\"attributes\":{\"children\":[{\"id\":\"55613132-12cb-474f-85b7-aaae4e52578d\",\"subtype\":\"Figure\",\"type\":\"Plot\"}]},\"id\":\"92999031-b2c4-4883-8928-7a170ffddaf1\",\"type\":\"Row\"},{\"attributes\":{},\"id\":\"c60fc6bc-285c-4878-b1ef-ade638e11b3e\",\"type\":\"BasicTickFormatter\"},{\"attributes\":{\"label\":{\"value\":\"Memory\"},\"renderers\":[{\"id\":\"f1f9e62b-2954-489b-80a2-4bd2cb36dd01\",\"type\":\"GlyphRenderer\"}]},\"id\":\"9ce9762d-8ea6-4acd-bf02-8a716776ea79\",\"type\":\"LegendItem\"},{\"attributes\":{\"axis_label\":\"Worker ID\",\"axis_line_color\":{\"value\":null},\"formatter\":{\"id\":\"73c7175d-a7d3-43ad-bcf4-d0107425a7cc\",\"type\":\"CategoricalTickFormatter\"},\"major_tick_line_color\":{\"value\":null},\"plot\":{\"id\":\"355b0732-91d9-443c-9f73-187e0b0fa654\",\"subtype\":\"Figure\",\"type\":\"Plot\"},\"ticker\":{\"id\":\"d2cf4dd2-1dcc-4767-9ee5-3a85bb69ea16\",\"type\":\"CategoricalTicker\"}},\"id\":\"72a6bc6d-9394-4ce0-b8cb-679d01523b0b\",\"type\":\"CategoricalAxis\"},{\"attributes\":{},\"id\":\"26d85aec-2402-4c80-a619-2d9bff903127\",\"type\":\"BasicTicker\"},{\"attributes\":{\"plot\":{\"id\":\"c0cd4d03-d6a6-4295-a19d-8aede09be735\",\"subtype\":\"Figure\",\"type\":\"Plot\"},\"ticker\":{\"id\":\"22aac161-3c61-445d-a6f2-e7ea774f9405\",\"type\":\"BasicTicker\"}},\"id\":\"4bb905d4-d54d-4bc1-95af-c866dc215f4a\",\"type\":\"Grid\"},{\"attributes\":{\"plot\":{\"id\":\"55613132-12cb-474f-85b7-aaae4e52578d\",\"subtype\":\"Figure\",\"type\":\"Plot\"}},\"id\":\"ee15423f-a339-4a09-a76c-9a46b5fc3785\",\"type\":\"ResizeTool\"},{\"attributes\":{\"children\":[{\"id\":\"355b0732-91d9-443c-9f73-187e0b0fa654\",\"subtype\":\"Figure\",\"type\":\"Plot\"}]},\"id\":\"6c5ba267-99aa-44da-aa62-cca33b8abf5b\",\"type\":\"Row\"},{\"attributes\":{\"dimensions\":\"width\",\"plot\":{\"id\":\"355b0732-91d9-443c-9f73-187e0b0fa654\",\"subtype\":\"Figure\",\"type\":\"Plot\"}},\"id\":\"e6e1fdc6-2302-4594-a9f2-87f65ca334b9\",\"type\":\"WheelZoomTool\"},{\"attributes\":{\"plot\":{\"id\":\"c0cd4d03-d6a6-4295-a19d-8aede09be735\",\"subtype\":\"Figure\",\"type\":\"Plot\"}},\"id\":\"c6ca84b1-2086-4d2e-b615-40b892678b59\",\"type\":\"WheelZoomTool\"},{\"attributes\":{\"line_alpha\":{\"value\":0.1},\"line_color\":{\"value\":\"#1f77b4\"},\"line_width\":{\"value\":3},\"x\":{\"field\":\"x\"},\"y\":{\"field\":\"y\"}},\"id\":\"b909f6e4-8ee2-4140-afe8-0e14bc9b294b\",\"type\":\"Line\"},{\"attributes\":{\"callback\":null,\"plot\":{\"id\":\"355b0732-91d9-443c-9f73-187e0b0fa654\",\"subtype\":\"Figure\",\"type\":\"Plot\"},\"point_policy\":\"follow_mouse\",\"tooltips\":\"\\n    <div>\\n        <span style=\\\"font-size: 14px; font-weight: bold;\\\">Key:</span>&nbsp;\\n        <span style=\\\"font-size: 10px; font-family: Monaco, monospace;\\\">@key</span>\\n    </div>\\n    <div>\\n        <span style=\\\"font-size: 14px; font-weight: bold;\\\">Task:</span>&nbsp;\\n        <span style=\\\"font-size: 10px; font-family: Monaco, monospace;\\\">@function</span>\\n    </div>\\n    \"},\"id\":\"0ad7591d-d675-48f6-841d-1578a3048df2\",\"type\":\"HoverTool\"},{\"attributes\":{\"data_source\":{\"id\":\"158bdb69-870c-4ad2-93f7-271cc0cab294\",\"type\":\"ColumnDataSource\"},\"glyph\":{\"id\":\"0e5e7c70-25b8-4cb2-aaae-56493358f7b6\",\"type\":\"Line\"},\"hover_glyph\":null,\"nonselection_glyph\":{\"id\":\"b2c57e52-3cfc-4cb1-b10c-aabbcea0cb4c\",\"type\":\"Line\"},\"selection_glyph\":null,\"y_range_name\":\"memory\"},\"id\":\"f1f9e62b-2954-489b-80a2-4bd2cb36dd01\",\"type\":\"GlyphRenderer\"},{\"attributes\":{\"plot\":{\"id\":\"55613132-12cb-474f-85b7-aaae4e52578d\",\"subtype\":\"Figure\",\"type\":\"Plot\"}},\"id\":\"ad57395d-c098-41e9-af65-44ff3eb7190a\",\"type\":\"SaveTool\"},{\"attributes\":{\"plot\":{\"id\":\"355b0732-91d9-443c-9f73-187e0b0fa654\",\"subtype\":\"Figure\",\"type\":\"Plot\"}},\"id\":\"4085885b-6b45-4f9b-b343-5d8b14acd083\",\"type\":\"ResizeTool\"},{\"attributes\":{},\"id\":\"306b4b9c-c57d-40e4-9a68-167cb8c3f393\",\"type\":\"ToolEvents\"},{\"attributes\":{\"line_alpha\":{\"value\":0.1},\"line_color\":{\"value\":\"#1f77b4\"},\"line_width\":{\"value\":3},\"x\":{\"field\":\"x\"},\"y\":{\"field\":\"y\"}},\"id\":\"227176aa-5250-4f7f-b96e-13f0cd3834a8\",\"type\":\"Line\"},{\"attributes\":{\"line_color\":{\"value\":\"#2c7fb8\"},\"line_width\":{\"value\":3},\"x\":{\"field\":\"x\"},\"y\":{\"field\":\"y\"}},\"id\":\"87edcab3-4cd9-4dbe-9bdc-5ab1981bc136\",\"type\":\"Line\"},{\"attributes\":{\"plot\":{\"id\":\"c0cd4d03-d6a6-4295-a19d-8aede09be735\",\"subtype\":\"Figure\",\"type\":\"Plot\"}},\"id\":\"9367f689-d0f2-432d-8af9-33edce35e794\",\"type\":\"ResetTool\"},{\"attributes\":{\"axis_label\":null,\"axis_line_color\":{\"value\":null},\"formatter\":{\"id\":\"c60fc6bc-285c-4878-b1ef-ade638e11b3e\",\"type\":\"BasicTickFormatter\"},\"major_tick_line_color\":{\"value\":null},\"plot\":{\"id\":\"355b0732-91d9-443c-9f73-187e0b0fa654\",\"subtype\":\"Figure\",\"type\":\"Plot\"},\"ticker\":{\"id\":\"54f4fbf6-b12d-45c7-9540-0d43455db23e\",\"type\":\"BasicTicker\"}},\"id\":\"a8ad2ab0-8ebb-420e-acb5-299a15e0421a\",\"type\":\"LinearAxis\"},{\"attributes\":{\"data_source\":{\"id\":\"2361277c-926b-404e-9ba4-808114d65712\",\"type\":\"ColumnDataSource\"},\"glyph\":{\"id\":\"bc4badf9-01b3-4713-93bf-95764a49e68b\",\"type\":\"Line\"},\"hover_glyph\":null,\"nonselection_glyph\":{\"id\":\"b909f6e4-8ee2-4140-afe8-0e14bc9b294b\",\"type\":\"Line\"},\"selection_glyph\":null},\"id\":\"cdf2e018-3751-4a04-8216-6cbdb0181e9e\",\"type\":\"GlyphRenderer\"},{\"attributes\":{\"data_source\":{\"id\":\"b7056c0e-0980-496b-ac81-b05645509b7f\",\"type\":\"ColumnDataSource\"},\"glyph\":{\"id\":\"0dc21ae4-4cba-4451-a517-f0196b3e0ca2\",\"type\":\"Line\"},\"hover_glyph\":null,\"nonselection_glyph\":{\"id\":\"a17fae88-1b43-4554-b647-e8769ff95e64\",\"type\":\"Line\"},\"selection_glyph\":null},\"id\":\"57748491-d21a-4e64-b6c2-a67df2cc12fa\",\"type\":\"GlyphRenderer\"},{\"attributes\":{\"dimension\":1,\"plot\":{\"id\":\"c0cd4d03-d6a6-4295-a19d-8aede09be735\",\"subtype\":\"Figure\",\"type\":\"Plot\"},\"ticker\":{\"id\":\"cdaef2e0-83d0-4b03-bf55-1467470640a3\",\"type\":\"BasicTicker\"}},\"id\":\"3c93c1ad-9537-4644-a9a7-94626fd1036f\",\"type\":\"Grid\"},{\"attributes\":{\"dimension\":1,\"grid_line_color\":{\"value\":null},\"plot\":{\"id\":\"355b0732-91d9-443c-9f73-187e0b0fa654\",\"subtype\":\"Figure\",\"type\":\"Plot\"},\"ticker\":{\"id\":\"d2cf4dd2-1dcc-4767-9ee5-3a85bb69ea16\",\"type\":\"CategoricalTicker\"}},\"id\":\"7d2c9118-ec7a-49ad-a55e-fb9b54e046bb\",\"type\":\"Grid\"},{\"attributes\":{},\"id\":\"54f4fbf6-b12d-45c7-9540-0d43455db23e\",\"type\":\"BasicTicker\"},{\"attributes\":{\"plot\":{\"id\":\"c0cd4d03-d6a6-4295-a19d-8aede09be735\",\"subtype\":\"Figure\",\"type\":\"Plot\"}},\"id\":\"1f00dbf1-f574-4780-b24f-7639ffe9d71e\",\"type\":\"SaveTool\"},{\"attributes\":{\"callback\":null,\"column_names\":[\"y\",\"x\"],\"data\":{\"x\":[0.0,0.2511756890016841,0.5021931930023129,0.7532554790013819,1.004128936001507,1.255103601000883,1.5062485410016961,1.757289856999705,2.0082153840012325,2.259414800999366,2.5102594410018355,2.7613997389998985,3.0124920170019323,3.263251543001388,3.514105379999819,3.7649532630020985,4.0160297350012115,4.266913346000365,4.517936349002412,4.768927619999886,5.019972899001004,5.2710742660019605,5.522144943999592,5.773166424001829,6.024195594000048,6.275210339001205,6.526338739000494],\"y\":[0.0,250.9,286.8,267.0,239.1,258.9,278.8,266.9,282.8,286.9,275.0,175.2,239.1,107.7,103.6,107.6,231.1,143.5,255.0,263.0,219.0,159.3,171.3,163.3,171.3,119.5,115.5]}},\"id\":\"e8be6fb8-e4d8-4a1f-8880-23d3b2d7ce11\",\"type\":\"ColumnDataSource\"},{\"attributes\":{\"data_source\":{\"id\":\"c1c546d7-d731-485b-aeb1-8f603fba109e\",\"type\":\"ColumnDataSource\"},\"glyph\":{\"id\":\"f4a469a6-636e-47a1-8a47-09017cb4bf06\",\"type\":\"Rect\"},\"hover_glyph\":null,\"nonselection_glyph\":{\"id\":\"b3a6c2a6-5d8d-46ac-9093-282db30cae3b\",\"type\":\"Rect\"},\"selection_glyph\":null},\"id\":\"06668826-9b0f-463b-b3c3-cd49034c1d71\",\"type\":\"GlyphRenderer\"},{\"attributes\":{},\"id\":\"c863cdda-164b-4530-a871-b841e2120a10\",\"type\":\"BasicTickFormatter\"},{\"attributes\":{\"plot\":{\"id\":\"55613132-12cb-474f-85b7-aaae4e52578d\",\"subtype\":\"Figure\",\"type\":\"Plot\"},\"ticker\":{\"id\":\"31696f50-6c26-4a8c-966c-8a9703067fd4\",\"type\":\"BasicTicker\"}},\"id\":\"d4d632f3-0806-4a8b-9c18-a8d32baca26e\",\"type\":\"Grid\"},{\"attributes\":{\"line_alpha\":{\"value\":0.1},\"line_color\":{\"value\":\"#1f77b4\"},\"line_width\":{\"value\":3},\"x\":{\"field\":\"x\"},\"y\":{\"field\":\"y\"}},\"id\":\"35bd63eb-b46b-4f01-8cd3-5d0d3e119ace\",\"type\":\"Line\"},{\"attributes\":{},\"id\":\"d2cf4dd2-1dcc-4767-9ee5-3a85bb69ea16\",\"type\":\"CategoricalTicker\"},{\"attributes\":{\"line_alpha\":{\"value\":0.1},\"line_color\":{\"value\":\"#1f77b4\"},\"line_width\":{\"value\":3},\"x\":{\"field\":\"x\"},\"y\":{\"field\":\"y\"}},\"id\":\"c8813ec3-022c-4e71-99f1-1717de1005d8\",\"type\":\"Line\"},{\"attributes\":{\"plot\":null,\"text\":\"Profile Results\"},\"id\":\"3818161e-6557-4bec-b4d7-84b0659b90cc\",\"type\":\"Title\"},{\"attributes\":{\"callback\":null,\"column_names\":[\"y\",\"x\",\"label\"],\"data\":{\"label\":[\"_apply_chunk(_, *, *, *)\",\"_apply_chunk(_, *, *, *)\",\"_apply_chunk(_, *, *, *)\",\"_apply_chunk(_, *, *, *)\",\"_apply_chunk(_, *, *, *)\",\"_apply_chunk(_, *, *, *)\",\"_apply_chunk(_, *, *, *)\",\"_apply_chunk(_, *, *, *)\",\"_apply_chunk(_, *, *, *)\",\"_apply_chunk(_, *, *, *)\",\"_apply_chunk(_, *, *, *)\",\"_apply_chunk(_, *, *, *)\",\"_apply_chunk(_, *, *, *)\",\"_apply_chunk(_, *, *, *)\",\"_apply_chunk(_, *, *, *)\",\"_apply_chunk(_, *, *, *)\",\"_apply_chunk(_, *, *, *)\",\"_apply_chunk(_, *, *, *)\",\"_apply_chunk(_, *, *, *)\",\"_apply_chunk(_, *, *, *)\",\"_apply_chunk(_, *, *, *)\",\"_apply_chunk(_, *, *, *)\",\"_apply_chunk(_, *, *, *)\",\"_apply_chunk(_, *, *, *)\",\"_apply_chunk(_, *, *, *)\",\"_apply_chunk(_, *, *, *)\",\"_apply_chunk(_, *, *, *)\",\"_apply_chunk(_, *, *, *)\",\"_apply_chunk(_, *, *, *)\",\"_apply_chunk(_, *, *, *)\",\"_apply_chunk(_, *, *, *)\",\"_apply_chunk(_, *, *, *)\",\"_apply_chunk(_, *, *, *)\",\"_apply_chunk(_, *, *, *)\",\"_apply_chunk(_, *, *, *)\",\"_apply_chunk(_, *, *, *)\",\"_apply_chunk(_, *, *, *)\",\"_apply_chunk(_, *, *, *)\",\"_apply_chunk(_, *, *, *)\"],\"x\":[0.0,0.03443044500090764,0.054024965000280645,0.07254872500197962,0.10964553600206273,0.7503186339999957,0.7547380260002683,0.851948325002013,0.8934350900017307,2.997646143001475,3.041976521999459,3.0420709230020293,3.3020455340010813,3.302215294999769,3.5553817239997443,3.8954496920014208,3.8955553180021525,3.9243662180015235,3.962917319000553,4.022734050999134,4.037687875999836,4.1165288600022905,4.117187924999598,4.460080623000977,4.482062284001586,4.79689867200068,4.797337505999167,4.872112630000629,5.102330968999013,5.1057518550005625,5.233018204999098,6.154607749998831,6.155143871001201,6.449026574002346,6.449430024000321,6.720911601001717,6.7597797509988595,6.763564070999564,6.763658264000696],\"y\":[0,0,0,0,0,0,0,1,1,1,1,1,1,1,1,2,3,4,4,4,4,4,4,5,5,5,5,6,6,6,7,7,7,7,7,8,9,0,0]}},\"id\":\"b7a75e12-2165-4012-9472-79b59ac9af6c\",\"type\":\"ColumnDataSource\"},{\"attributes\":{\"below\":[{\"id\":\"a8d32776-1f85-431a-aeb2-133cf735083d\",\"type\":\"LinearAxis\"}],\"extra_y_ranges\":{\"memory\":{\"id\":\"d21971b2-97db-401b-856d-26eaa34c98a2\",\"type\":\"Range1d\"}},\"left\":[{\"id\":\"bfe65acf-bb4e-4a2b-89a9-9066eec3bd2c\",\"type\":\"LinearAxis\"}],\"min_border_bottom\":20,\"min_border_left\":75,\"min_border_right\":75,\"min_border_top\":20,\"plot_height\":240,\"plot_width\":800,\"renderers\":[{\"id\":\"a8d32776-1f85-431a-aeb2-133cf735083d\",\"type\":\"LinearAxis\"},{\"id\":\"d4d632f3-0806-4a8b-9c18-a8d32baca26e\",\"type\":\"Grid\"},{\"id\":\"bfe65acf-bb4e-4a2b-89a9-9066eec3bd2c\",\"type\":\"LinearAxis\"},{\"id\":\"22d7ac19-e180-4b6b-be6b-ceb6fdcfc67c\",\"type\":\"Grid\"},{\"id\":\"d12349a0-8a38-40cc-aa6d-54be81b62238\",\"type\":\"Legend\"},{\"id\":\"e885d946-a6a3-462e-b7a0-65e78ba8f022\",\"type\":\"GlyphRenderer\"},{\"id\":\"f1f9e62b-2954-489b-80a2-4bd2cb36dd01\",\"type\":\"GlyphRenderer\"},{\"id\":\"9641e914-bef5-4df7-ba4f-64574a97fef3\",\"type\":\"LinearAxis\"}],\"right\":[{\"id\":\"9641e914-bef5-4df7-ba4f-64574a97fef3\",\"type\":\"LinearAxis\"}],\"title\":null,\"tool_events\":{\"id\":\"64e7da1f-1831-493d-bff6-159b1cc12447\",\"type\":\"ToolEvents\"},\"toolbar\":{\"id\":\"c8b2e983-f726-417d-a84c-11301a731088\",\"type\":\"Toolbar\"},\"toolbar_location\":null,\"x_range\":{\"id\":\"037e99e4-7673-4e60-b5ec-c77fbecbb1a5\",\"type\":\"Range1d\"},\"y_range\":{\"id\":\"c6d015fa-e49b-4d42-be9a-f5c1c81619ae\",\"type\":\"Range1d\"}},\"id\":\"55613132-12cb-474f-85b7-aaae4e52578d\",\"subtype\":\"Figure\",\"type\":\"Plot\"},{\"attributes\":{\"below\":[{\"id\":\"a8ad2ab0-8ebb-420e-acb5-299a15e0421a\",\"type\":\"LinearAxis\"}],\"left\":[{\"id\":\"72a6bc6d-9394-4ce0-b8cb-679d01523b0b\",\"type\":\"CategoricalAxis\"}],\"min_border_bottom\":20,\"min_border_left\":75,\"min_border_right\":75,\"plot_height\":270,\"plot_width\":800,\"renderers\":[{\"id\":\"a8ad2ab0-8ebb-420e-acb5-299a15e0421a\",\"type\":\"LinearAxis\"},{\"id\":\"e6f40b40-f21e-4c43-b8a6-ed36c8e7b2c2\",\"type\":\"Grid\"},{\"id\":\"72a6bc6d-9394-4ce0-b8cb-679d01523b0b\",\"type\":\"CategoricalAxis\"},{\"id\":\"7d2c9118-ec7a-49ad-a55e-fb9b54e046bb\",\"type\":\"Grid\"},{\"id\":\"06668826-9b0f-463b-b3c3-cd49034c1d71\",\"type\":\"GlyphRenderer\"}],\"title\":{\"id\":\"3818161e-6557-4bec-b4d7-84b0659b90cc\",\"type\":\"Title\"},\"tool_events\":{\"id\":\"028b9ca2-4592-4ac3-829e-1b9ae423994a\",\"type\":\"ToolEvents\"},\"toolbar\":{\"id\":\"482f0682-3365-4229-b07d-e48124fcb879\",\"type\":\"Toolbar\"},\"toolbar_location\":null,\"x_range\":{\"id\":\"037e99e4-7673-4e60-b5ec-c77fbecbb1a5\",\"type\":\"Range1d\"},\"y_range\":{\"id\":\"b5d21229-c834-4b48-8cab-7c8552ec55a6\",\"type\":\"FactorRange\"}},\"id\":\"355b0732-91d9-443c-9f73-187e0b0fa654\",\"subtype\":\"Figure\",\"type\":\"Plot\"},{\"attributes\":{\"children\":[{\"id\":\"c0cd4d03-d6a6-4295-a19d-8aede09be735\",\"subtype\":\"Figure\",\"type\":\"Plot\"}]},\"id\":\"6c6365f3-e4b7-4f9c-8f95-d3a05a8e5307\",\"type\":\"Row\"},{\"attributes\":{\"line_alpha\":{\"value\":0.1},\"line_color\":{\"value\":\"#1f77b4\"},\"line_width\":{\"value\":3},\"x\":{\"field\":\"x\"},\"y\":{\"field\":\"y\"}},\"id\":\"f274c2b9-afd3-48a0-80e8-5ef60de2be41\",\"type\":\"Line\"},{\"attributes\":{},\"id\":\"64e7da1f-1831-493d-bff6-159b1cc12447\",\"type\":\"ToolEvents\"},{\"attributes\":{\"callback\":null,\"column_names\":[\"function\",\"x\",\"width\",\"key\",\"color\",\"y\"],\"data\":{\"color\":[\"#c7e9b4\",\"#7fcdbb\",\"#ffffcc\",\"#ffffcc\",\"#253494\",\"#2c7fb8\",\"#253494\",\"#c7e9b4\",\"#253494\",\"#c7e9b4\",\"#7fcdbb\",\"#41b6c4\",\"#2c7fb8\",\"#253494\",\"#ffffcc\",\"#2c7fb8\",\"#253494\",\"#2c7fb8\",\"#253494\",\"#2c7fb8\",\"#ffffcc\",\"#ffffcc\",\"#7fcdbb\",\"#253494\",\"#2c7fb8\",\"#ffffcc\",\"#7fcdbb\",\"#ffffcc\",\"#7fcdbb\",\"#2c7fb8\",\"#2c7fb8\",\"#7fcdbb\",\"#253494\",\"#2c7fb8\",\"#253494\",\"#ffffcc\",\"#ffffcc\"],\"function\":[\"bytes_read_csv(_, *, dict(...), dict(...), list(...), enforce=*, write_header=*)\",\"bytes_read_csv(_, *, dict(...), dict(...), list(...), enforce=*)\",\"read_block_from_file(*, *, *, *, *)\",\"read_block_from_file(*, *, *, *, *)\",\"_\",\"_apply_chunk(_, *, *, *)\",\"_\",\"bytes_read_csv(_, *, dict(...), dict(...), list(...), enforce=*, write_header=*)\",\"_\",\"bytes_read_csv(_, *, dict(...), dict(...), list(...), enforce=*, write_header=*)\",\"bytes_read_csv(_, *, dict(...), dict(...), list(...), enforce=*)\",\"_groupby_aggregate(_concat(...), aggfunc=*, levels=*)\",\"_apply_chunk(_, *, *, *)\",\"_\",\"read_block_from_file(*, *, *, *, *)\",\"_apply_chunk(_, *, *, *)\",\"_\",\"_apply_chunk(_, *, *, *)\",\"_\",\"_apply_chunk(_, *, *, *)\",\"read_block_from_file(*, *, *, *, *)\",\"read_block_from_file(*, *, *, *, *)\",\"bytes_read_csv(_, *, dict(...), dict(...), list(...), enforce=*)\",\"_\",\"_apply_chunk(_, *, *, *)\",\"read_block_from_file(*, *, *, *, *)\",\"bytes_read_csv(_, *, dict(...), dict(...), list(...), enforce=*)\",\"read_block_from_file(*, *, *, *, *)\",\"bytes_read_csv(_, *, dict(...), dict(...), list(...), enforce=*)\",\"_apply_chunk(_, *, *, *)\",\"_apply_chunk(_, *, *, *)\",\"bytes_read_csv(_, *, dict(...), dict(...), list(...), enforce=*)\",\"_\",\"_apply_chunk(_, *, *, *)\",\"_\",\"read_block_from_file(*, *, *, *, *)\",\"read_block_from_file(*, *, *, *, *)\"],\"key\":[\"bytes_read_csv-0a541790dc5af912a2c31fd618d9f26a\",\"bytes_read_csv-ce2e7bf26e5d0b3f1acc24bcba3c89fc\",\"read-file-block-b33dc5235f67d69b52fc273473441a6e-0\",\"read-file-block-9222b0f2d599e78a1a68a3f3d8d85f27-64000000\",\"('from-delayed-e5462feb2b445756fa6e09a7865526da', 4)\",\"('series-groupby-count-chunk-cdaad18febc38c3d4791093746615b12', 5)\",\"('from-delayed-e5462feb2b445756fa6e09a7865526da', 6)\",\"bytes_read_csv-d4c91ee790250406c0785d87ab9b33cc\",\"('from-delayed-e5462feb2b445756fa6e09a7865526da', 0)\",\"bytes_read_csv-9bbf2de88fd35e10d44dea8a1d11abd0\",\"bytes_read_csv-d71ee426cafbb91f4858b91f3dbad142\",\"('series-groupby-count-cdaad18febc38c3d4791093746615b12', 0)\",\"('series-groupby-count-chunk-cdaad18febc38c3d4791093746615b12', 3)\",\"('from-delayed-e5462feb2b445756fa6e09a7865526da', 2)\",\"read-file-block-29d2057d7d600e7b84b31b1344423dee-64000000\",\"('series-groupby-count-chunk-cdaad18febc38c3d4791093746615b12', 0)\",\"('from-delayed-e5462feb2b445756fa6e09a7865526da', 1)\",\"('series-groupby-count-chunk-cdaad18febc38c3d4791093746615b12', 8)\",\"('from-delayed-e5462feb2b445756fa6e09a7865526da', 5)\",\"('series-groupby-count-chunk-cdaad18febc38c3d4791093746615b12', 2)\",\"read-file-block-9222b0f2d599e78a1a68a3f3d8d85f27-128000000\",\"read-file-block-9222b0f2d599e78a1a68a3f3d8d85f27-0\",\"bytes_read_csv-986f4fdaac4888fa7fc474d9647ec2b0\",\"('from-delayed-e5462feb2b445756fa6e09a7865526da', 7)\",\"('series-groupby-count-chunk-cdaad18febc38c3d4791093746615b12', 4)\",\"read-file-block-b33dc5235f67d69b52fc273473441a6e-64000000\",\"bytes_read_csv-045220d674a2060159184b585e05cbc7\",\"read-file-block-29d2057d7d600e7b84b31b1344423dee-0\",\"bytes_read_csv-a86a11ff7650fa744af19770cb6c4b9f\",\"('series-groupby-count-chunk-cdaad18febc38c3d4791093746615b12', 6)\",\"('series-groupby-count-chunk-cdaad18febc38c3d4791093746615b12', 1)\",\"bytes_read_csv-51e0f50445c8db365c1df60e7a32c9fc\",\"('from-delayed-e5462feb2b445756fa6e09a7865526da', 3)\",\"('series-groupby-count-chunk-cdaad18febc38c3d4791093746615b12', 7)\",\"('from-delayed-e5462feb2b445756fa6e09a7865526da', 8)\",\"read-file-block-b33dc5235f67d69b52fc273473441a6e-128000000\",\"read-file-block-29d2057d7d600e7b84b31b1344423dee-128000000\"],\"width\":[2.9880309689979185,2.1169071959993744,0.050264424997294554,0.041468660998361884,0.0006373429969244171,0.07475774900012766,0.0003793039977608714,2.4262712559975625,0.26013551599680795,3.2294736730000295,0.6202527419991384,0.00375518099826877,0.36896663299921784,0.004328517003159504,0.11329156499778037,0.5933263970000553,0.0443079199976637,0.12724582300143084,0.0004214079999655951,0.09718301000248175,0.06744908499968005,0.06855137399907107,3.22307921799802,0.0005191279997234233,0.3428686480001488,0.10576006699920981,0.7158692229968437,0.12716601300053298,2.8879861929999606,0.31033157899946673,0.8534567639981105,0.8339646220010763,0.25328425699990476,0.5657542469998589,0.00337162200230523,0.03048398400278529,0.021964326999295736],\"x\":[1.5442989904986462,5.092395314000896,0.025132212496828288,0.8689418784997542,4.113110597500054,4.830974921496818,6.445482397000887,5.232131769997068,3.1683896350004943,1.6835494225015282,4.78844531699724,6.7579286034961115,3.73612483949546,0.7488130374986213,3.97728357649612,3.595135597497574,3.0160643919989525,5.165637013498781,4.793369139995775,0.7995985909983574,3.9254328454990173,0.03451102899998659,2.501230392997968,6.151127164997888,4.284887934001745,0.05300648349657422,0.3886225815003854,3.955389472499519,1.5498931194961187,6.600855696498911,3.46496312799718,4.376158271996246,3.4249811284971656,6.434275907497067,5.100307194996276,0.015428096998221008,4.467321087497112],\"y\":[1,3,1,4,4,1,3,2,2,2,4,2,2,4,2,1,3,4,1,4,1,2,4,1,4,3,4,3,3,1,3,1,1,4,1,4,4]}},\"id\":\"c1c546d7-d731-485b-aeb1-8f603fba109e\",\"type\":\"ColumnDataSource\"},{\"attributes\":{\"callback\":null,\"end\":4545.323008,\"start\":3877.720064},\"id\":\"d21971b2-97db-401b-856d-26eaa34c98a2\",\"type\":\"Range1d\"},{\"attributes\":{\"dimensions\":\"width\",\"plot\":{\"id\":\"55613132-12cb-474f-85b7-aaae4e52578d\",\"subtype\":\"Figure\",\"type\":\"Plot\"}},\"id\":\"3a748c70-c001-430f-bb17-1e89af2d0492\",\"type\":\"WheelZoomTool\"},{\"attributes\":{\"active_drag\":\"auto\",\"active_scroll\":\"auto\",\"active_tap\":\"auto\",\"tools\":[{\"id\":\"ad57395d-c098-41e9-af65-44ff3eb7190a\",\"type\":\"SaveTool\"},{\"id\":\"c2a01e94-dd28-4c5b-a28c-53575a495c9e\",\"type\":\"ResetTool\"},{\"id\":\"ee15423f-a339-4a09-a76c-9a46b5fc3785\",\"type\":\"ResizeTool\"},{\"id\":\"3a748c70-c001-430f-bb17-1e89af2d0492\",\"type\":\"WheelZoomTool\"},{\"id\":\"f120401b-7c3a-4b6c-a24c-828b33a264a3\",\"type\":\"PanTool\"}]},\"id\":\"c8b2e983-f726-417d-a84c-11301a731088\",\"type\":\"Toolbar\"},{\"attributes\":{\"line_color\":{\"value\":\"#ffffcc\"},\"line_width\":{\"value\":3},\"x\":{\"field\":\"x\"},\"y\":{\"field\":\"y\"}},\"id\":\"0dc21ae4-4cba-4451-a517-f0196b3e0ca2\",\"type\":\"Line\"},{\"attributes\":{\"line_color\":{\"value\":\"#253494\"},\"line_width\":{\"value\":4},\"x\":{\"field\":\"x\"},\"y\":{\"field\":\"y\"}},\"id\":\"60264d4f-7e45-4fd3-bf52-e562d189326e\",\"type\":\"Line\"},{\"attributes\":{\"dimension\":1,\"plot\":{\"id\":\"55613132-12cb-474f-85b7-aaae4e52578d\",\"subtype\":\"Figure\",\"type\":\"Plot\"},\"ticker\":{\"id\":\"0f97d58c-5e58-4f8d-9732-2f88c434b636\",\"type\":\"BasicTicker\"}},\"id\":\"22d7ac19-e180-4b6b-be6b-ceb6fdcfc67c\",\"type\":\"Grid\"},{\"attributes\":{\"axis_label\":\"Time (s)\",\"formatter\":{\"id\":\"c863cdda-164b-4530-a871-b841e2120a10\",\"type\":\"BasicTickFormatter\"},\"plot\":{\"id\":\"c0cd4d03-d6a6-4295-a19d-8aede09be735\",\"subtype\":\"Figure\",\"type\":\"Plot\"},\"ticker\":{\"id\":\"22aac161-3c61-445d-a6f2-e7ea774f9405\",\"type\":\"BasicTicker\"}},\"id\":\"331772d9-0b78-49e0-b893-f387997f6539\",\"type\":\"LinearAxis\"},{\"attributes\":{},\"id\":\"028b9ca2-4592-4ac3-829e-1b9ae423994a\",\"type\":\"ToolEvents\"},{\"attributes\":{\"fill_alpha\":{\"value\":0.1},\"fill_color\":{\"value\":\"#1f77b4\"},\"height\":{\"units\":\"data\",\"value\":1},\"line_alpha\":{\"value\":0.1},\"line_color\":{\"value\":\"#1f77b4\"},\"width\":{\"field\":\"width\",\"units\":\"data\"},\"x\":{\"field\":\"x\"},\"y\":{\"field\":\"y\"}},\"id\":\"b3a6c2a6-5d8d-46ac-9093-282db30cae3b\",\"type\":\"Rect\"},{\"attributes\":{\"data_source\":{\"id\":\"61afc38f-ef77-4475-afc9-e1322dc2fae1\",\"type\":\"ColumnDataSource\"},\"glyph\":{\"id\":\"2db06a01-9d87-44b5-b6a3-2149f96494b2\",\"type\":\"Line\"},\"hover_glyph\":null,\"nonselection_glyph\":{\"id\":\"c8813ec3-022c-4e71-99f1-1717de1005d8\",\"type\":\"Line\"},\"selection_glyph\":null},\"id\":\"88ede57c-583d-4f78-88b8-ea18696e8145\",\"type\":\"GlyphRenderer\"}],\"root_ids\":[\"77040535-ecc0-44ba-aebe-e2f043cdded7\"]},\"title\":\"Bokeh Application\",\"version\":\"0.12.3\"}};\n",
       "            var render_items = [{\"docid\":\"8fc148be-c35a-4400-bcec-d216913756f4\",\"elementid\":\"a46ac438-0481-4ab6-ac10-7cc3e63cc15f\",\"modelid\":\"77040535-ecc0-44ba-aebe-e2f043cdded7\"}];\n",
       "            \n",
       "            Bokeh.embed.embed_items(docs_json, render_items);\n",
       "        });\n",
       "      },\n",
       "      function(Bokeh) {\n",
       "      }\n",
       "    ];\n",
       "  \n",
       "    function run_inline_js() {\n",
       "      \n",
       "      if ((window.Bokeh !== undefined) || (force === \"1\")) {\n",
       "        for (var i = 0; i < inline_js.length; i++) {\n",
       "          inline_js[i](window.Bokeh);\n",
       "        }if (force === \"1\") {\n",
       "          display_loaded();\n",
       "        }} else if (Date.now() < window._bokeh_timeout) {\n",
       "        setTimeout(run_inline_js, 100);\n",
       "      } else if (!window._bokeh_failed_load) {\n",
       "        console.log(\"Bokeh: BokehJS failed to load within specified timeout.\");\n",
       "        window._bokeh_failed_load = true;\n",
       "      } else if (!force) {\n",
       "        var cell = $(\"#a46ac438-0481-4ab6-ac10-7cc3e63cc15f\").parents('.cell').data().cell;\n",
       "        cell.output_area.append_execute_result(NB_LOAD_WARNING)\n",
       "      }\n",
       "  \n",
       "    }\n",
       "  \n",
       "    if (window._bokeh_is_loading === 0) {\n",
       "      console.log(\"Bokeh: BokehJS loaded, going straight to plotting\");\n",
       "      run_inline_js();\n",
       "    } else {\n",
       "      load_libs(js_urls, function() {\n",
       "        console.log(\"Bokeh: BokehJS plotting callback run at\", now());\n",
       "        run_inline_js();\n",
       "      });\n",
       "    }\n",
       "  }(this));\n",
       "</script>"
      ]
     },
     "metadata": {},
     "output_type": "display_data"
    },
    {
     "data": {
      "text/html": [
       "<div style=\"display: table;\"><div style=\"display: table-row;\"><div style=\"display: table-cell;\"><b title=\"bokeh.models.layouts.Column\">Column</b>(</div><div style=\"display: table-cell;\">id&nbsp;=&nbsp;'77040535-ecc0-44ba-aebe-e2f043cdded7', <span id=\"c0cf4244-8f43-46e2-a356-e521cdc2b0e4\" style=\"cursor: pointer;\">&hellip;)</span></div></div><div class=\"98298e17-d04d-49c3-817d-6d5cd3b176ce\" style=\"display: none;\"><div style=\"display: table-cell;\"></div><div style=\"display: table-cell;\">children&nbsp;=&nbsp;[ToolbarBox(id='55467f09-2a9d-49a8-96a9-990925835d3f', ...), Column(id='ca8fba24-aac0-42ec-a480-686c36933464', ...)],</div></div><div class=\"98298e17-d04d-49c3-817d-6d5cd3b176ce\" style=\"display: none;\"><div style=\"display: table-cell;\"></div><div style=\"display: table-cell;\">disabled&nbsp;=&nbsp;False,</div></div><div class=\"98298e17-d04d-49c3-817d-6d5cd3b176ce\" style=\"display: none;\"><div style=\"display: table-cell;\"></div><div style=\"display: table-cell;\">height&nbsp;=&nbsp;None,</div></div><div class=\"98298e17-d04d-49c3-817d-6d5cd3b176ce\" style=\"display: none;\"><div style=\"display: table-cell;\"></div><div style=\"display: table-cell;\">name&nbsp;=&nbsp;None,</div></div><div class=\"98298e17-d04d-49c3-817d-6d5cd3b176ce\" style=\"display: none;\"><div style=\"display: table-cell;\"></div><div style=\"display: table-cell;\">sizing_mode&nbsp;=&nbsp;'fixed',</div></div><div class=\"98298e17-d04d-49c3-817d-6d5cd3b176ce\" style=\"display: none;\"><div style=\"display: table-cell;\"></div><div style=\"display: table-cell;\">tags&nbsp;=&nbsp;[],</div></div><div class=\"98298e17-d04d-49c3-817d-6d5cd3b176ce\" style=\"display: none;\"><div style=\"display: table-cell;\"></div><div style=\"display: table-cell;\">width&nbsp;=&nbsp;None)</div></div></div>\n",
       "<script>\n",
       "(function() {\n",
       "  var expanded = false;\n",
       "  var ellipsis = document.getElementById(\"c0cf4244-8f43-46e2-a356-e521cdc2b0e4\");\n",
       "  ellipsis.addEventListener(\"click\", function() {\n",
       "    var rows = document.getElementsByClassName(\"98298e17-d04d-49c3-817d-6d5cd3b176ce\");\n",
       "    for (var i = 0; i < rows.length; i++) {\n",
       "      var el = rows[i];\n",
       "      el.style.display = expanded ? \"none\" : \"table-row\";\n",
       "    }\n",
       "    ellipsis.innerHTML = expanded ? \"&hellip;)\" : \"&lsaquo;&lsaquo;&lsaquo;\";\n",
       "    expanded = !expanded;\n",
       "  });\n",
       "})();\n",
       "</script>\n"
      ],
      "text/plain": [
       "Column(id='77040535-ecc0-44ba-aebe-e2f043cdded7', ...)"
      ]
     },
     "execution_count": 50,
     "metadata": {},
     "output_type": "execute_result"
    }
   ],
   "source": [
    "visualize([prof, rprof])"
   ]
  },
  {
   "cell_type": "markdown",
   "metadata": {},
   "source": [
    "The results from the `Profiler` object show the execution time for each task as a rectangle, organized along the y-axis by worker (in this case threads). Similar tasks are grouped by color, and by hovering over each task one can see the key and task that each block represents.\n",
    "\n",
    "The results from the `ResourceProfiler object` show two lines, one for total CPU percentage used by all the workers, and one for total memory usage."
   ]
  },
  {
   "cell_type": "markdown",
   "metadata": {},
   "source": [
    "Conclusion\n",
    "------------\n",
    "\n",
    "We've learned about how dask graph represent computations and how we can execute these computations with dask schedulers / get functions.  We've made a few of these dictionaries by hand.  It's straightforward but perhaps tiresome. We then saw shortly how dask collections can generate similar dictionaries for us, and how we can visualize the execution of those graphs.\n",
    "\n",
    "In the next notebooks we will see more in depth examples using the Dask collections."
   ]
  }
 ],
 "metadata": {
  "celltoolbar": "Nbtutor - export exercises",
  "kernelspec": {
   "display_name": "Python 3",
   "language": "python",
   "name": "python3"
  },
  "language_info": {
   "codemirror_mode": {
    "name": "ipython",
    "version": 3
   },
   "file_extension": ".py",
   "mimetype": "text/x-python",
   "name": "python",
   "nbconvert_exporter": "python",
   "pygments_lexer": "ipython3",
   "version": "3.5.2"
  },
  "nav_menu": {},
  "toc": {
   "navigate_menu": true,
   "number_sections": false,
   "sideBar": true,
   "threshold": 6,
   "toc_cell": false,
   "toc_section_display": "block",
   "toc_window_display": true
  },
  "toc_position": {
   "height": "881px",
   "left": "0px",
   "right": "1585px",
   "top": "107px",
   "width": "335px"
  }
 },
 "nbformat": 4,
 "nbformat_minor": 0
}
